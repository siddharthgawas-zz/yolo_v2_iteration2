{
 "cells": [
  {
   "cell_type": "markdown",
   "metadata": {},
   "source": [
    "# Data Visiualization\n",
    "This notebook gives visualizations for dataset. Inputs are pandas frame which should have following fields [image_path, label, xmin, ymin, xmax, ymax, xc, yc, w, h]. image_path is the unique path name of the image. label is class label of the bounding box. All the coordinates are nomalized between 0 and 1\n"
   ]
  },
  {
   "cell_type": "code",
   "execution_count": 16,
   "metadata": {},
   "outputs": [],
   "source": [
    "import pandas as pd\n",
    "import numpy as np\n",
    "import matplotlib.pyplot as plt\n",
    "from matplotlib import rc\n",
    "font = {'family' : 'normal',\n",
    "        'weight' : 'bold',\n",
    "        'size'   : 20}\n",
    "rc('font', **font)"
   ]
  },
  {
   "cell_type": "markdown",
   "metadata": {},
   "source": [
    "## Loading Dataframes\n",
    "We read pandas frame from CSV files. The two files are used. One which stores bounding boxes from test data and one which stores data from train folder. The CSV files for a dataset can be generated using script script_csv_gen_bndbox.py"
   ]
  },
  {
   "cell_type": "markdown",
   "metadata": {},
   "source": [
    "python script_csv_gen_bndbox.py <dataset_path> <output_file>"
   ]
  },
  {
   "cell_type": "markdown",
   "metadata": {},
   "source": [
    "eg. python script_csv_gen_bndbox.py data/leaf_data_v2/test test_leaf_data_v2.csv"
   ]
  },
  {
   "cell_type": "code",
   "execution_count": 17,
   "metadata": {},
   "outputs": [],
   "source": [
    "# train_csv_path = 'annotation_data/train_leaf_data_v3.csv'\n",
    "# test_csv_path = 'annotation_data/test_leaf_data_v3.csv'\n",
    "train_csv_path = 'annotation_data/train_leaf_data_v2.csv'\n",
    "test_csv_path = 'annotation_data/test_leaf_data_v2.csv'"
   ]
  },
  {
   "cell_type": "code",
   "execution_count": 18,
   "metadata": {
    "scrolled": true
   },
   "outputs": [
    {
     "data": {
      "text/html": [
       "<div>\n",
       "<style scoped>\n",
       "    .dataframe tbody tr th:only-of-type {\n",
       "        vertical-align: middle;\n",
       "    }\n",
       "\n",
       "    .dataframe tbody tr th {\n",
       "        vertical-align: top;\n",
       "    }\n",
       "\n",
       "    .dataframe thead th {\n",
       "        text-align: right;\n",
       "    }\n",
       "</style>\n",
       "<table border=\"1\" class=\"dataframe\">\n",
       "  <thead>\n",
       "    <tr style=\"text-align: right;\">\n",
       "      <th></th>\n",
       "      <th>image_path</th>\n",
       "      <th>label</th>\n",
       "      <th>xmin</th>\n",
       "      <th>ymin</th>\n",
       "      <th>xmax</th>\n",
       "      <th>ymax</th>\n",
       "      <th>xc</th>\n",
       "      <th>yc</th>\n",
       "      <th>w</th>\n",
       "      <th>h</th>\n",
       "    </tr>\n",
       "  </thead>\n",
       "  <tbody>\n",
       "    <tr>\n",
       "      <th>0</th>\n",
       "      <td>.\\data\\leaf_data_v2\\train\\leaf_infected_0.jpg</td>\n",
       "      <td>infected</td>\n",
       "      <td>0.579291</td>\n",
       "      <td>0.002809</td>\n",
       "      <td>0.850047</td>\n",
       "      <td>0.466643</td>\n",
       "      <td>0.714669</td>\n",
       "      <td>0.234726</td>\n",
       "      <td>0.270756</td>\n",
       "      <td>0.463834</td>\n",
       "    </tr>\n",
       "    <tr>\n",
       "      <th>1</th>\n",
       "      <td>.\\data\\leaf_data_v2\\train\\leaf_infected_0.jpg</td>\n",
       "      <td>infected</td>\n",
       "      <td>0.208256</td>\n",
       "      <td>0.718048</td>\n",
       "      <td>0.333022</td>\n",
       "      <td>1.000000</td>\n",
       "      <td>0.270639</td>\n",
       "      <td>0.859024</td>\n",
       "      <td>0.124767</td>\n",
       "      <td>0.281952</td>\n",
       "    </tr>\n",
       "    <tr>\n",
       "      <th>2</th>\n",
       "      <td>.\\data\\leaf_data_v2\\train\\leaf_infected_0.jpg</td>\n",
       "      <td>infected</td>\n",
       "      <td>0.163013</td>\n",
       "      <td>0.046348</td>\n",
       "      <td>0.268424</td>\n",
       "      <td>0.314607</td>\n",
       "      <td>0.215718</td>\n",
       "      <td>0.180478</td>\n",
       "      <td>0.105410</td>\n",
       "      <td>0.268258</td>\n",
       "    </tr>\n",
       "    <tr>\n",
       "      <th>3</th>\n",
       "      <td>.\\data\\leaf_data_v2\\train\\leaf_infected_0.jpg</td>\n",
       "      <td>infected</td>\n",
       "      <td>0.127799</td>\n",
       "      <td>0.583919</td>\n",
       "      <td>0.230877</td>\n",
       "      <td>0.795646</td>\n",
       "      <td>0.179338</td>\n",
       "      <td>0.689782</td>\n",
       "      <td>0.103078</td>\n",
       "      <td>0.211728</td>\n",
       "    </tr>\n",
       "    <tr>\n",
       "      <th>4</th>\n",
       "      <td>.\\data\\leaf_data_v2\\train\\leaf_infected_0.jpg</td>\n",
       "      <td>infected</td>\n",
       "      <td>0.334188</td>\n",
       "      <td>0.548806</td>\n",
       "      <td>0.460588</td>\n",
       "      <td>0.660463</td>\n",
       "      <td>0.397388</td>\n",
       "      <td>0.604635</td>\n",
       "      <td>0.126399</td>\n",
       "      <td>0.111657</td>\n",
       "    </tr>\n",
       "  </tbody>\n",
       "</table>\n",
       "</div>"
      ],
      "text/plain": [
       "                                      image_path     label      xmin  \\\n",
       "0  .\\data\\leaf_data_v2\\train\\leaf_infected_0.jpg  infected  0.579291   \n",
       "1  .\\data\\leaf_data_v2\\train\\leaf_infected_0.jpg  infected  0.208256   \n",
       "2  .\\data\\leaf_data_v2\\train\\leaf_infected_0.jpg  infected  0.163013   \n",
       "3  .\\data\\leaf_data_v2\\train\\leaf_infected_0.jpg  infected  0.127799   \n",
       "4  .\\data\\leaf_data_v2\\train\\leaf_infected_0.jpg  infected  0.334188   \n",
       "\n",
       "       ymin      xmax      ymax        xc        yc         w         h  \n",
       "0  0.002809  0.850047  0.466643  0.714669  0.234726  0.270756  0.463834  \n",
       "1  0.718048  0.333022  1.000000  0.270639  0.859024  0.124767  0.281952  \n",
       "2  0.046348  0.268424  0.314607  0.215718  0.180478  0.105410  0.268258  \n",
       "3  0.583919  0.230877  0.795646  0.179338  0.689782  0.103078  0.211728  \n",
       "4  0.548806  0.460588  0.660463  0.397388  0.604635  0.126399  0.111657  "
      ]
     },
     "execution_count": 18,
     "metadata": {},
     "output_type": "execute_result"
    }
   ],
   "source": [
    "train_df = pd.read_csv(train_csv_path)\n",
    "train_df.head()"
   ]
  },
  {
   "cell_type": "code",
   "execution_count": 19,
   "metadata": {},
   "outputs": [
    {
     "data": {
      "text/html": [
       "<div>\n",
       "<style scoped>\n",
       "    .dataframe tbody tr th:only-of-type {\n",
       "        vertical-align: middle;\n",
       "    }\n",
       "\n",
       "    .dataframe tbody tr th {\n",
       "        vertical-align: top;\n",
       "    }\n",
       "\n",
       "    .dataframe thead th {\n",
       "        text-align: right;\n",
       "    }\n",
       "</style>\n",
       "<table border=\"1\" class=\"dataframe\">\n",
       "  <thead>\n",
       "    <tr style=\"text-align: right;\">\n",
       "      <th></th>\n",
       "      <th>image_path</th>\n",
       "      <th>label</th>\n",
       "      <th>xmin</th>\n",
       "      <th>ymin</th>\n",
       "      <th>xmax</th>\n",
       "      <th>ymax</th>\n",
       "      <th>xc</th>\n",
       "      <th>yc</th>\n",
       "      <th>w</th>\n",
       "      <th>h</th>\n",
       "    </tr>\n",
       "  </thead>\n",
       "  <tbody>\n",
       "    <tr>\n",
       "      <th>0</th>\n",
       "      <td>.\\data\\leaf_data_v2\\train\\leaf_infected_1.jpg</td>\n",
       "      <td>infected</td>\n",
       "      <td>0.765159</td>\n",
       "      <td>0.454003</td>\n",
       "      <td>1.000000</td>\n",
       "      <td>0.739817</td>\n",
       "      <td>0.882579</td>\n",
       "      <td>0.596910</td>\n",
       "      <td>0.234841</td>\n",
       "      <td>0.285815</td>\n",
       "    </tr>\n",
       "    <tr>\n",
       "      <th>1</th>\n",
       "      <td>.\\data\\leaf_data_v2\\train\\leaf_infected_1.jpg</td>\n",
       "      <td>infected</td>\n",
       "      <td>0.717118</td>\n",
       "      <td>0.809340</td>\n",
       "      <td>0.793843</td>\n",
       "      <td>1.000000</td>\n",
       "      <td>0.755480</td>\n",
       "      <td>0.904670</td>\n",
       "      <td>0.076726</td>\n",
       "      <td>0.190660</td>\n",
       "    </tr>\n",
       "    <tr>\n",
       "      <th>2</th>\n",
       "      <td>.\\data\\leaf_data_v2\\train\\leaf_infected_1.jpg</td>\n",
       "      <td>infected</td>\n",
       "      <td>0.098647</td>\n",
       "      <td>0.524228</td>\n",
       "      <td>0.188433</td>\n",
       "      <td>0.768961</td>\n",
       "      <td>0.143540</td>\n",
       "      <td>0.646594</td>\n",
       "      <td>0.089785</td>\n",
       "      <td>0.244733</td>\n",
       "    </tr>\n",
       "    <tr>\n",
       "      <th>3</th>\n",
       "      <td>.\\data\\leaf_data_v2\\train\\leaf_infected_1.jpg</td>\n",
       "      <td>infected</td>\n",
       "      <td>0.001866</td>\n",
       "      <td>0.146419</td>\n",
       "      <td>0.154618</td>\n",
       "      <td>0.496489</td>\n",
       "      <td>0.078242</td>\n",
       "      <td>0.321454</td>\n",
       "      <td>0.152752</td>\n",
       "      <td>0.350070</td>\n",
       "    </tr>\n",
       "    <tr>\n",
       "      <th>4</th>\n",
       "      <td>.\\data\\leaf_data_v2\\train\\leaf_infected_1.jpg</td>\n",
       "      <td>infected</td>\n",
       "      <td>0.001866</td>\n",
       "      <td>0.124298</td>\n",
       "      <td>0.363106</td>\n",
       "      <td>0.448736</td>\n",
       "      <td>0.182486</td>\n",
       "      <td>0.286517</td>\n",
       "      <td>0.361241</td>\n",
       "      <td>0.324438</td>\n",
       "    </tr>\n",
       "  </tbody>\n",
       "</table>\n",
       "</div>"
      ],
      "text/plain": [
       "                                      image_path     label      xmin  \\\n",
       "0  .\\data\\leaf_data_v2\\train\\leaf_infected_1.jpg  infected  0.765159   \n",
       "1  .\\data\\leaf_data_v2\\train\\leaf_infected_1.jpg  infected  0.717118   \n",
       "2  .\\data\\leaf_data_v2\\train\\leaf_infected_1.jpg  infected  0.098647   \n",
       "3  .\\data\\leaf_data_v2\\train\\leaf_infected_1.jpg  infected  0.001866   \n",
       "4  .\\data\\leaf_data_v2\\train\\leaf_infected_1.jpg  infected  0.001866   \n",
       "\n",
       "       ymin      xmax      ymax        xc        yc         w         h  \n",
       "0  0.454003  1.000000  0.739817  0.882579  0.596910  0.234841  0.285815  \n",
       "1  0.809340  0.793843  1.000000  0.755480  0.904670  0.076726  0.190660  \n",
       "2  0.524228  0.188433  0.768961  0.143540  0.646594  0.089785  0.244733  \n",
       "3  0.146419  0.154618  0.496489  0.078242  0.321454  0.152752  0.350070  \n",
       "4  0.124298  0.363106  0.448736  0.182486  0.286517  0.361241  0.324438  "
      ]
     },
     "execution_count": 19,
     "metadata": {},
     "output_type": "execute_result"
    }
   ],
   "source": [
    "test_df = pd.read_csv(test_csv_path)\n",
    "test_df.head()"
   ]
  },
  {
   "cell_type": "markdown",
   "metadata": {},
   "source": [
    "## Describing bounding box coordinates\n",
    "Here we describe the train dataframe and test dataframe. We make sure that counts for all columns are same. And min value of the coordinates are >=0 and max values of coordinates are <= 1.0. If this condition is not satisfied then we know that there is some mistake while labelling images"
   ]
  },
  {
   "cell_type": "code",
   "execution_count": 20,
   "metadata": {},
   "outputs": [
    {
     "data": {
      "text/html": [
       "<div>\n",
       "<style scoped>\n",
       "    .dataframe tbody tr th:only-of-type {\n",
       "        vertical-align: middle;\n",
       "    }\n",
       "\n",
       "    .dataframe tbody tr th {\n",
       "        vertical-align: top;\n",
       "    }\n",
       "\n",
       "    .dataframe thead th {\n",
       "        text-align: right;\n",
       "    }\n",
       "</style>\n",
       "<table border=\"1\" class=\"dataframe\">\n",
       "  <thead>\n",
       "    <tr style=\"text-align: right;\">\n",
       "      <th></th>\n",
       "      <th>xmin</th>\n",
       "      <th>ymin</th>\n",
       "      <th>xmax</th>\n",
       "      <th>ymax</th>\n",
       "      <th>xc</th>\n",
       "      <th>yc</th>\n",
       "      <th>w</th>\n",
       "      <th>h</th>\n",
       "    </tr>\n",
       "  </thead>\n",
       "  <tbody>\n",
       "    <tr>\n",
       "      <th>count</th>\n",
       "      <td>3128.000000</td>\n",
       "      <td>3128.000000</td>\n",
       "      <td>3128.000000</td>\n",
       "      <td>3128.000000</td>\n",
       "      <td>3128.000000</td>\n",
       "      <td>3128.000000</td>\n",
       "      <td>3128.000000</td>\n",
       "      <td>3128.000000</td>\n",
       "    </tr>\n",
       "    <tr>\n",
       "      <th>mean</th>\n",
       "      <td>0.428541</td>\n",
       "      <td>0.378740</td>\n",
       "      <td>0.574869</td>\n",
       "      <td>0.579933</td>\n",
       "      <td>0.501705</td>\n",
       "      <td>0.479337</td>\n",
       "      <td>0.146328</td>\n",
       "      <td>0.201193</td>\n",
       "    </tr>\n",
       "    <tr>\n",
       "      <th>std</th>\n",
       "      <td>0.236141</td>\n",
       "      <td>0.255946</td>\n",
       "      <td>0.243847</td>\n",
       "      <td>0.264917</td>\n",
       "      <td>0.234215</td>\n",
       "      <td>0.252514</td>\n",
       "      <td>0.104979</td>\n",
       "      <td>0.127768</td>\n",
       "    </tr>\n",
       "    <tr>\n",
       "      <th>min</th>\n",
       "      <td>0.000233</td>\n",
       "      <td>0.000351</td>\n",
       "      <td>0.050000</td>\n",
       "      <td>0.043519</td>\n",
       "      <td>0.025521</td>\n",
       "      <td>0.027315</td>\n",
       "      <td>0.017188</td>\n",
       "      <td>0.025000</td>\n",
       "    </tr>\n",
       "    <tr>\n",
       "      <th>25%</th>\n",
       "      <td>0.250000</td>\n",
       "      <td>0.158102</td>\n",
       "      <td>0.394335</td>\n",
       "      <td>0.359259</td>\n",
       "      <td>0.329139</td>\n",
       "      <td>0.263889</td>\n",
       "      <td>0.078358</td>\n",
       "      <td>0.112963</td>\n",
       "    </tr>\n",
       "    <tr>\n",
       "      <th>50%</th>\n",
       "      <td>0.423966</td>\n",
       "      <td>0.363413</td>\n",
       "      <td>0.568773</td>\n",
       "      <td>0.569659</td>\n",
       "      <td>0.493130</td>\n",
       "      <td>0.469680</td>\n",
       "      <td>0.115625</td>\n",
       "      <td>0.164815</td>\n",
       "    </tr>\n",
       "    <tr>\n",
       "      <th>75%</th>\n",
       "      <td>0.593867</td>\n",
       "      <td>0.584259</td>\n",
       "      <td>0.765234</td>\n",
       "      <td>0.803704</td>\n",
       "      <td>0.669365</td>\n",
       "      <td>0.687237</td>\n",
       "      <td>0.178646</td>\n",
       "      <td>0.252107</td>\n",
       "    </tr>\n",
       "    <tr>\n",
       "      <th>max</th>\n",
       "      <td>0.969271</td>\n",
       "      <td>0.969444</td>\n",
       "      <td>1.000000</td>\n",
       "      <td>1.000000</td>\n",
       "      <td>0.984375</td>\n",
       "      <td>0.984722</td>\n",
       "      <td>0.913542</td>\n",
       "      <td>0.996296</td>\n",
       "    </tr>\n",
       "  </tbody>\n",
       "</table>\n",
       "</div>"
      ],
      "text/plain": [
       "              xmin         ymin         xmax         ymax           xc  \\\n",
       "count  3128.000000  3128.000000  3128.000000  3128.000000  3128.000000   \n",
       "mean      0.428541     0.378740     0.574869     0.579933     0.501705   \n",
       "std       0.236141     0.255946     0.243847     0.264917     0.234215   \n",
       "min       0.000233     0.000351     0.050000     0.043519     0.025521   \n",
       "25%       0.250000     0.158102     0.394335     0.359259     0.329139   \n",
       "50%       0.423966     0.363413     0.568773     0.569659     0.493130   \n",
       "75%       0.593867     0.584259     0.765234     0.803704     0.669365   \n",
       "max       0.969271     0.969444     1.000000     1.000000     0.984375   \n",
       "\n",
       "                yc            w            h  \n",
       "count  3128.000000  3128.000000  3128.000000  \n",
       "mean      0.479337     0.146328     0.201193  \n",
       "std       0.252514     0.104979     0.127768  \n",
       "min       0.027315     0.017188     0.025000  \n",
       "25%       0.263889     0.078358     0.112963  \n",
       "50%       0.469680     0.115625     0.164815  \n",
       "75%       0.687237     0.178646     0.252107  \n",
       "max       0.984722     0.913542     0.996296  "
      ]
     },
     "execution_count": 20,
     "metadata": {},
     "output_type": "execute_result"
    }
   ],
   "source": [
    "#Describe train dataset\n",
    "train_df.describe()"
   ]
  },
  {
   "cell_type": "code",
   "execution_count": 21,
   "metadata": {},
   "outputs": [
    {
     "data": {
      "text/html": [
       "<div>\n",
       "<style scoped>\n",
       "    .dataframe tbody tr th:only-of-type {\n",
       "        vertical-align: middle;\n",
       "    }\n",
       "\n",
       "    .dataframe tbody tr th {\n",
       "        vertical-align: top;\n",
       "    }\n",
       "\n",
       "    .dataframe thead th {\n",
       "        text-align: right;\n",
       "    }\n",
       "</style>\n",
       "<table border=\"1\" class=\"dataframe\">\n",
       "  <thead>\n",
       "    <tr style=\"text-align: right;\">\n",
       "      <th></th>\n",
       "      <th>xmin</th>\n",
       "      <th>ymin</th>\n",
       "      <th>xmax</th>\n",
       "      <th>ymax</th>\n",
       "      <th>xc</th>\n",
       "      <th>yc</th>\n",
       "      <th>w</th>\n",
       "      <th>h</th>\n",
       "    </tr>\n",
       "  </thead>\n",
       "  <tbody>\n",
       "    <tr>\n",
       "      <th>count</th>\n",
       "      <td>336.000000</td>\n",
       "      <td>336.000000</td>\n",
       "      <td>336.000000</td>\n",
       "      <td>336.000000</td>\n",
       "      <td>336.000000</td>\n",
       "      <td>336.000000</td>\n",
       "      <td>336.000000</td>\n",
       "      <td>336.000000</td>\n",
       "    </tr>\n",
       "    <tr>\n",
       "      <th>mean</th>\n",
       "      <td>0.437323</td>\n",
       "      <td>0.414101</td>\n",
       "      <td>0.570612</td>\n",
       "      <td>0.608536</td>\n",
       "      <td>0.503968</td>\n",
       "      <td>0.511318</td>\n",
       "      <td>0.133289</td>\n",
       "      <td>0.194436</td>\n",
       "    </tr>\n",
       "    <tr>\n",
       "      <th>std</th>\n",
       "      <td>0.230304</td>\n",
       "      <td>0.265928</td>\n",
       "      <td>0.236398</td>\n",
       "      <td>0.270763</td>\n",
       "      <td>0.227398</td>\n",
       "      <td>0.259454</td>\n",
       "      <td>0.104927</td>\n",
       "      <td>0.137097</td>\n",
       "    </tr>\n",
       "    <tr>\n",
       "      <th>min</th>\n",
       "      <td>0.000521</td>\n",
       "      <td>0.000351</td>\n",
       "      <td>0.046875</td>\n",
       "      <td>0.050926</td>\n",
       "      <td>0.023958</td>\n",
       "      <td>0.027315</td>\n",
       "      <td>0.020833</td>\n",
       "      <td>0.037963</td>\n",
       "    </tr>\n",
       "    <tr>\n",
       "      <th>25%</th>\n",
       "      <td>0.262500</td>\n",
       "      <td>0.178262</td>\n",
       "      <td>0.402083</td>\n",
       "      <td>0.406481</td>\n",
       "      <td>0.339715</td>\n",
       "      <td>0.306446</td>\n",
       "      <td>0.070703</td>\n",
       "      <td>0.098148</td>\n",
       "    </tr>\n",
       "    <tr>\n",
       "      <th>50%</th>\n",
       "      <td>0.422656</td>\n",
       "      <td>0.406426</td>\n",
       "      <td>0.543750</td>\n",
       "      <td>0.625000</td>\n",
       "      <td>0.480183</td>\n",
       "      <td>0.514583</td>\n",
       "      <td>0.097831</td>\n",
       "      <td>0.158984</td>\n",
       "    </tr>\n",
       "    <tr>\n",
       "      <th>75%</th>\n",
       "      <td>0.577995</td>\n",
       "      <td>0.649769</td>\n",
       "      <td>0.769485</td>\n",
       "      <td>0.845703</td>\n",
       "      <td>0.676662</td>\n",
       "      <td>0.726852</td>\n",
       "      <td>0.150297</td>\n",
       "      <td>0.247222</td>\n",
       "    </tr>\n",
       "    <tr>\n",
       "      <th>max</th>\n",
       "      <td>0.922917</td>\n",
       "      <td>0.956481</td>\n",
       "      <td>1.000000</td>\n",
       "      <td>1.000000</td>\n",
       "      <td>0.961458</td>\n",
       "      <td>0.978241</td>\n",
       "      <td>0.556250</td>\n",
       "      <td>0.804630</td>\n",
       "    </tr>\n",
       "  </tbody>\n",
       "</table>\n",
       "</div>"
      ],
      "text/plain": [
       "             xmin        ymin        xmax        ymax          xc          yc  \\\n",
       "count  336.000000  336.000000  336.000000  336.000000  336.000000  336.000000   \n",
       "mean     0.437323    0.414101    0.570612    0.608536    0.503968    0.511318   \n",
       "std      0.230304    0.265928    0.236398    0.270763    0.227398    0.259454   \n",
       "min      0.000521    0.000351    0.046875    0.050926    0.023958    0.027315   \n",
       "25%      0.262500    0.178262    0.402083    0.406481    0.339715    0.306446   \n",
       "50%      0.422656    0.406426    0.543750    0.625000    0.480183    0.514583   \n",
       "75%      0.577995    0.649769    0.769485    0.845703    0.676662    0.726852   \n",
       "max      0.922917    0.956481    1.000000    1.000000    0.961458    0.978241   \n",
       "\n",
       "                w           h  \n",
       "count  336.000000  336.000000  \n",
       "mean     0.133289    0.194436  \n",
       "std      0.104927    0.137097  \n",
       "min      0.020833    0.037963  \n",
       "25%      0.070703    0.098148  \n",
       "50%      0.097831    0.158984  \n",
       "75%      0.150297    0.247222  \n",
       "max      0.556250    0.804630  "
      ]
     },
     "execution_count": 21,
     "metadata": {},
     "output_type": "execute_result"
    }
   ],
   "source": [
    "#Describe test dataset\n",
    "test_df.describe()"
   ]
  },
  {
   "cell_type": "markdown",
   "metadata": {},
   "source": [
    "Get unique labels from test and train dataframe to make sure they are same."
   ]
  },
  {
   "cell_type": "code",
   "execution_count": 22,
   "metadata": {},
   "outputs": [
    {
     "name": "stdout",
     "output_type": "stream",
     "text": [
      "Labels in train dataset ['infected' 'not_infected']\n",
      "Labels in test dataset ['infected' 'not_infected']\n"
     ]
    }
   ],
   "source": [
    "train_labels = np.sort(train_df['label'].unique())\n",
    "test_labels = np.sort(test_df['label'].unique())\n",
    "print('Labels in train dataset', train_labels)\n",
    "print('Labels in test dataset', test_labels)"
   ]
  },
  {
   "cell_type": "markdown",
   "metadata": {},
   "source": [
    "## Show dataset visualizations\n",
    "### Train and test split\n",
    "Calculate number of samples in train and test data. Find the test:train split ratio and plot the graph."
   ]
  },
  {
   "cell_type": "code",
   "execution_count": 23,
   "metadata": {},
   "outputs": [
    {
     "data": {
      "text/plain": [
       "<matplotlib.legend.Legend at 0x24822f027b8>"
      ]
     },
     "execution_count": 23,
     "metadata": {},
     "output_type": "execute_result"
    },
    {
     "data": {
      "image/png": "[encoded data removed]",
      "text/plain": [
       "<Figure size 432x288 with 1 Axes>"
      ]
     },
     "metadata": {
      "needs_background": "light"
     },
     "output_type": "display_data"
    }
   ],
   "source": [
    "n_train_samples = train_df['image_path'].unique().shape[0]\n",
    "n_test_samples = test_df['image_path'].unique().shape[0]\n",
    "split_ratio = np.round(n_test_samples / n_train_samples,decimals=2)\n",
    "plt.title('Split Ratio = {}'.format(split_ratio))\n",
    "plt.xlabel('Data')\n",
    "plt.ylabel('Number of images')\n",
    "bars = plt.bar([0,1],[n_train_samples,n_test_samples],width=0.8\n",
    "        ,color=[(0.949, 0.819, 0.211),(0.427, 0.211, 0.949)],tick_label=['Train','Test'])\n",
    "plt.legend(bars,[n_train_samples,n_test_samples],loc=0)"
   ]
  },
  {
   "cell_type": "markdown",
   "metadata": {},
   "source": [
    "### Bounding box visualization \n",
    "Count the number of the bounding boxes in the train and test dataset. class_labels is list which stores unique class labels across whole dataset. This is used while plotting graph for overall dataset."
   ]
  },
  {
   "cell_type": "code",
   "execution_count": 24,
   "metadata": {},
   "outputs": [],
   "source": [
    "class_labels = []"
   ]
  },
  {
   "cell_type": "code",
   "execution_count": 26,
   "metadata": {},
   "outputs": [
    {
     "data": {
      "image/png": "[encoded data removed]",
      "text/plain": [
       "<Figure size 432x288 with 1 Axes>"
      ]
     },
     "metadata": {
      "needs_background": "light"
     },
     "output_type": "display_data"
    }
   ],
   "source": [
    "#Plot graph for training dataset\n",
    "idx = []\n",
    "label_count = []\n",
    "for i in train_labels:\n",
    "    i_count = train_df.groupby(by='label')['label'].count()[i]\n",
    "    label_count.append(i_count)\n",
    "    idx.append(i)\n",
    "    if i not in class_labels:\n",
    "        class_labels.append(i)\n",
    "    \n",
    "plt.title('Training dataset class count')\n",
    "plt.xlabel('Classes')\n",
    "plt.ylabel('Number of bounding boxes')\n",
    "plt.xticks( rotation='horizontal')\n",
    "bars = plt.bar(idx,label_count,width=0.8\n",
    "        ,tick_label=train_labels,color=np.random.uniform(size=(len(train_labels),3)))\n",
    "plt.legend(bars,label_count,loc=0)\n",
    "\n",
    "train_counts = label_count"
   ]
  },
  {
   "cell_type": "code",
   "execution_count": 27,
   "metadata": {},
   "outputs": [
    {
     "data": {
      "image/png": "[encoded data removed]",
      "text/plain": [
       "<Figure size 432x288 with 1 Axes>"
      ]
     },
     "metadata": {
      "needs_background": "light"
     },
     "output_type": "display_data"
    }
   ],
   "source": [
    "#Plot graph for test dataset\n",
    "idx = []\n",
    "label_count = []\n",
    "for i in test_labels:\n",
    "    i_count = test_df.groupby(by='label')['label'].count()[i]\n",
    "    label_count.append(i_count)\n",
    "    idx.append(i)\n",
    "    \n",
    "    if i not in class_labels:\n",
    "        class_labels.append(i)\n",
    "\n",
    "plt.title('Test dataset class count')\n",
    "plt.xlabel('Classes')\n",
    "plt.ylabel('Number of bounding boxes')\n",
    "plt.xticks( rotation='horizontal')\n",
    "bars = plt.bar(idx,label_count,width=0.8,tick_label=test_labels,color=np.random.uniform(size=(len(test_labels),3)))\n",
    "plt.legend(bars,label_count,loc=0)\n",
    "\n",
    "test_counts = label_count"
   ]
  },
  {
   "cell_type": "code",
   "execution_count": 28,
   "metadata": {},
   "outputs": [],
   "source": [
    "#Join train and test dataframe \n",
    "train_test_df = pd.concat((train_df,test_df))\n",
    "train_test_labels = train_test_df['label'].unique()"
   ]
  },
  {
   "cell_type": "code",
   "execution_count": 29,
   "metadata": {},
   "outputs": [
    {
     "data": {
      "text/plain": [
       "<matplotlib.legend.Legend at 0x248240ebcf8>"
      ]
     },
     "execution_count": 29,
     "metadata": {},
     "output_type": "execute_result"
    },
    {
     "data": {
      "image/png": "[encoded data removed]",
      "text/plain": [
       "<Figure size 432x288 with 1 Axes>"
      ]
     },
     "metadata": {
      "needs_background": "light"
     },
     "output_type": "display_data"
    }
   ],
   "source": [
    "#Plot graph for whole dataset\n",
    "idx = []\n",
    "label_count = []\n",
    "for i in class_labels:\n",
    "    i_count = train_test_df.groupby(by='label')['label'].count()[i]\n",
    "    label_count.append(i_count)\n",
    "    idx.append(i)\n",
    "plt.title('Overall dataset class count')\n",
    "plt.xlabel('Classes')\n",
    "plt.ylabel('Number of bounding boxes')\n",
    "plt.xticks( rotation='horizontal')\n",
    "bars = plt.bar(idx,label_count,width=0.8\n",
    "        ,tick_label=train_test_labels,color=np.random.uniform(size=(len(train_labels),3)))\n",
    "plt.legend(bars,label_count,loc=0)"
   ]
  },
  {
   "cell_type": "code",
   "execution_count": 30,
   "metadata": {},
   "outputs": [
    {
     "data": {
      "text/plain": [
       "array([[2628,  500],\n",
       "       [ 289,   47]], dtype=int64)"
      ]
     },
     "execution_count": 30,
     "metadata": {},
     "output_type": "execute_result"
    }
   ],
   "source": [
    "#Plot heatmap to show bounding box counts in train and test\n",
    "data = np.array([train_counts,test_counts])\n",
    "labels = class_labels\n",
    "data"
   ]
  },
  {
   "cell_type": "code",
   "execution_count": 31,
   "metadata": {},
   "outputs": [
    {
     "data": {
      "text/plain": [
       "Text(0.5, 1.0, 'Dataset overview')"
      ]
     },
     "execution_count": 31,
     "metadata": {},
     "output_type": "execute_result"
    },
    {
     "data": {
      "image/png": "[encoded data removed]",
      "text/plain": [
       "<Figure size 432x432 with 1 Axes>"
      ]
     },
     "metadata": {
      "needs_background": "light"
     },
     "output_type": "display_data"
    }
   ],
   "source": [
    "fig, ax = plt.subplots(figsize=(6,6))\n",
    "\n",
    "im = ax.imshow(data)\n",
    "# We want to show all ticks...\n",
    "ax.set_xticks(np.arange(len(labels)))\n",
    "ax.set_yticks(np.arange(2))\n",
    "\n",
    "# ... and label them with the respective list entries\n",
    "ax.set_xticklabels(labels)\n",
    "ax.set_yticklabels(['train','test'])\n",
    "\n",
    "# Rotate the tick labels and set their alignment.\n",
    "plt.setp(ax.get_xticklabels(), rotation=0, ha=\"center\",\n",
    "         rotation_mode=\"anchor\")\n",
    "\n",
    "# Loop over data dimensions and create text annotations.\n",
    "for i in range(2):\n",
    "    for j in range(len(labels)):\n",
    "        text = ax.text(j, i, data[i, j],\n",
    "                       ha=\"center\", va=\"center\", color=\"w\")\n",
    "\n",
    "ax.set_title(\"Dataset overview\")"
   ]
  },
  {
   "cell_type": "code",
   "execution_count": null,
   "metadata": {},
   "outputs": [],
   "source": []
  }
 ],
 "metadata": {
  "kernelspec": {
   "display_name": "Python 3",
   "language": "python",
   "name": "python3"
  },
  "language_info": {
   "codemirror_mode": {
    "name": "ipython",
    "version": 3
   },
   "file_extension": ".py",
   "mimetype": "text/x-python",
   "name": "python",
   "nbconvert_exporter": "python",
   "pygments_lexer": "ipython3",
   "version": "3.6.8"
  }
 },
 "nbformat": 4,
 "nbformat_minor": 2
}
