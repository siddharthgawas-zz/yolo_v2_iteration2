{
 "cells": [
  {
   "cell_type": "markdown",
   "metadata": {},
   "source": [
    "#### For a given query, q, we calculate its corresponding AP, and then the mean of the all these AP scores would give us a single number, called the mAP, which quantifies how good our model is at performing the query.\n",
    "#### It uses Intersection over Union(IoU), Precision and Recall values. "
   ]
  },
  {
   "cell_type": "code",
   "execution_count": null,
   "metadata": {},
   "outputs": [],
   "source": [
    "import numpy as np\n",
    "import pandas as pd\n",
    "import matplotlib.pyplot as plt\n",
    "from matplotlib import rc\n",
    "font = {'family' : 'normal',\n",
    "        'weight' : 'bold',\n",
    "        'size'   : 20}\n",
    "rc('font', **font)\n",
    "%matplotlib inline"
   ]
  },
  {
   "cell_type": "markdown",
   "metadata": {},
   "source": [
    "<img src=\"iou.png\" title = \"IoU\"/>"
   ]
  },
  {
   "cell_type": "code",
   "execution_count": 27,
   "metadata": {},
   "outputs": [],
   "source": [
    "def intersection_over_union(boxA, boxB):\n",
    "    \"\"\"\n",
    "    Finds the intersection over union between boxes boxA and boxB\n",
    "    Parameters\n",
    "    ---------------------------------------------------------------------------\n",
    "    boxA: list of 4 coordinates of bounding boxA x1,y1,x2,y2\n",
    "    boxB: list of 4 coordinates of bounding boxB x1, y1, x2, y2\n",
    "    Returns\n",
    "    ---------------------------------------------------------------------------\n",
    "    Intersection over union of two bounding boxes\n",
    "    \"\"\"\n",
    "    xA = np.maximum(boxA[:,0], boxB[:,0])\n",
    "    yA = np.maximum(boxA[:,1], boxB[:,1])\n",
    "    xB = np.minimum(boxA[:,2], boxB[:,2])\n",
    "    yB = np.minimum(boxA[:,3], boxB[:,3])\n",
    "\n",
    "    interArea = np.maximum(0, xB - xA ) * np.maximum(0, yB - yA )\n",
    "    boxAArea = (boxA[:,2] - boxA[:,0] ) * (boxA[:,3] - boxA[:,1] )\n",
    "    boxBArea = (boxB[:,2] - boxB[:,0]) * (boxB[:,3] - boxB[:,1])\n",
    "    iou = interArea / (boxAArea + boxBArea - interArea)\n",
    "    return np.reshape(iou,(-1,1))"
   ]
  },
  {
   "cell_type": "code",
   "execution_count": 28,
   "metadata": {},
   "outputs": [],
   "source": [
    "def get_max_overlap_idx(boxA,boxB):\n",
    "    n_gnd = boxA.shape[0]\n",
    "    n_pred = boxB.shape[0]\n",
    "    box1 = np.reshape(boxA,(-1,1,4))\n",
    "    box1 = np.tile(box1,(1,n_pred,1))\n",
    "    box2 = np.reshape(boxB,(-1,n_pred,4))\n",
    "    box2 = np.tile(box2,(n_gnd,1,1))\n",
    "    box1 = np.reshape(box1,(-1,4))\n",
    "    box2 = np.reshape(box2,(-1,4))\n",
    "    iou = intersection_over_union(box1,box2)\n",
    "    iou = np.reshape(iou,(-1,n_pred))\n",
    "    max_overlap_idx = np.argmax(iou,axis=1)\n",
    "    return max_overlap_idx"
   ]
  },
  {
   "cell_type": "code",
   "execution_count": 51,
   "metadata": {},
   "outputs": [],
   "source": [
    "IOU_THRESH = 0.5\n",
    "def match_gnd_with_pred(gnd_box,pred_box):\n",
    "    boxA = gnd_box\n",
    "    boxB = pred_box\n",
    "    n_gnd = boxA.shape[0]\n",
    "    n_pred = boxB.shape[0]\n",
    "    max_overlap_idx = get_max_overlap_idx(boxA,boxB)\n",
    "    max_overlap_idx2 = get_max_overlap_idx(boxB,boxA)\n",
    "    matched_boxes = []\n",
    "    for i in range(n_gnd):\n",
    "        j = max_overlap_idx[i]\n",
    "        k = max_overlap_idx2[j]\n",
    "        iou  = intersection_over_union(boxA[i].reshape((-1,4)),boxB[j].reshape((-1,4)))\n",
    "        if i == k and iou >= 0.5:\n",
    "            matched_boxes.append([i,j])\n",
    "    matched_boxes = np.array(matched_boxes)\n",
    "    return matched_boxes"
   ]
  },
  {
   "cell_type": "code",
   "execution_count": 52,
   "metadata": {},
   "outputs": [],
   "source": [
    "def confusion_matrix(gnd,pred):\n",
    "    n_gnd = gnd.shape[0]\n",
    "    label_idx = {\n",
    "    'infected': 0,\n",
    "    'not_infected': 1,\n",
    "    'no_obj': 3\n",
    "    }\n",
    "    confusion_matrix = np.zeros(shape=(3,3))\n",
    "    #If no predictions are made for ground truth\n",
    "    if pred is None:\n",
    "        for i in range(n_gnd):\n",
    "            box_gnd = gnd.iloc[i]\n",
    "            label_i = label_idx[box_gnd['label']]\n",
    "            confusion_matrix[label_i,2] = confusion_matrix[label_i,2]+1\n",
    "        return np.array(confusion_matrix)\n",
    "            \n",
    "    n_pred = pred.shape[0]\n",
    "    boxA = np.array(gnd[['xmin','ymin','xmax','ymax']])\n",
    "    boxB = np.array(pred[['xmin','ymin','xmax','ymax']])\n",
    "    matched_boxes = match_gnd_with_pred(boxA,boxB)\n",
    "    #if no match is found\n",
    "    if(matched_boxes.shape[0] == 0):\n",
    "        for i in range(n_gnd):\n",
    "            box_gnd = gnd.iloc[i]\n",
    "            label_i = label_idx[box_gnd['label']]\n",
    "            confusion_matrix[label_i,2] = confusion_matrix[label_i,2]+1\n",
    "            \n",
    "        for i in range(n_pred):\n",
    "            box = pred.iloc[i]\n",
    "            idx = label_idx[box['label']]\n",
    "            confusion_matrix[2,idx] = confusion_matrix[2,idx]+1\n",
    "        return np.array(confusion_matrix)\n",
    "    \n",
    "    \n",
    "    matched_gnd = matched_boxes[:,0]\n",
    "    matched_preds = matched_boxes[:,1]\n",
    "\n",
    "\n",
    "    for i in range(n_pred):\n",
    "        if i not in matched_preds:\n",
    "            box = pred.iloc[i]\n",
    "            idx = label_idx[box['label']]\n",
    "            confusion_matrix[2,idx] = confusion_matrix[2,idx]+1\n",
    "        else:\n",
    "            box = pred.iloc[i]\n",
    "            idx = np.argwhere(matched_preds==i).flatten()[0]\n",
    "            gnd_idx = matched_boxes[idx,0]\n",
    "            box_gnd = gnd.iloc[gnd_idx]\n",
    "            label_i = label_idx[box_gnd['label']]\n",
    "            label_j = label_idx[box['label']]\n",
    "            confusion_matrix[label_i,label_j] = confusion_matrix[label_i,label_j]+1\n",
    "\n",
    "    for i in range(n_gnd):\n",
    "        if i not in matched_gnd:\n",
    "            box_gnd = gnd.iloc[i]\n",
    "            label_i = label_idx[box_gnd['label']]\n",
    "            confusion_matrix[label_i,2] = confusion_matrix[label_i,2]+1\n",
    "    return np.array(confusion_matrix)\n"
   ]
  },
  {
   "cell_type": "markdown",
   "metadata": {},
   "source": [
    "#### True Positive (IoU > 0.5)\n",
    "#### False Positive - There are two possible scenarios where a BB would be considered as FP: IoU <0.5 or duplicated bounding box\n",
    "#### False Negative - When the predicted BB has an IoU > 0.5 but has the wrong classification, the predicted BB would be FN."
   ]
  },
  {
   "cell_type": "code",
   "execution_count": null,
   "metadata": {},
   "outputs": [],
   "source": [
    "def asssign_label(gnd,pred):\n",
    "#     label_idx = {\n",
    "#     'infected': 0,\n",
    "#     'not_infected': 1,\n",
    "#     }\n",
    "\n",
    "    n_gnd = gnd.shape[0]\n",
    "    n_pred = pred.shape[0]\n",
    "    labels = []\n",
    "    boxA = np.array(gnd[['xmin','ymin','xmax','ymax']])\n",
    "    boxB = np.array(pred[['xmin','ymin','xmax','ymax']])\n",
    "    matched_boxes = match_gnd_with_pred(boxA,boxB)\n",
    "    \n",
    "    if(matched_boxes.shape[0] == 0):\n",
    "        for i in range(n_pred):\n",
    "            labels.append('FP')\n",
    "        return labels\n",
    "    \n",
    "    matched_gnd = matched_boxes[:,0]\n",
    "    matched_preds = matched_boxes[:,1]\n",
    "    \n",
    "    for i in range(n_pred):\n",
    "        if i in matched_preds:\n",
    "            pred_label = pred.iloc[i]['label']\n",
    "            idx = np.argwhere(matched_preds == i).flatten()[0]\n",
    "            gnd_box = gnd.iloc[matched_gnd[idx]]\n",
    "            gnd_label = gnd_box['label']\n",
    "            if pred_label == gnd_label:\n",
    "                labels.append('TP')\n",
    "            else:\n",
    "                labels.append('FN')\n",
    "        else:\n",
    "            labels.append('FP')\n",
    "    return labels"
   ]
  },
  {
   "cell_type": "markdown",
   "metadata": {},
   "source": [
    "#### Precision = TP/(TP+FP)"
   ]
  },
  {
   "cell_type": "code",
   "execution_count": 32,
   "metadata": {},
   "outputs": [],
   "source": [
    "def calculate_precision(labels):\n",
    "    tp = 0\n",
    "    fp = 0\n",
    "    fn = 0\n",
    "    result = []\n",
    "    for i in labels:\n",
    "        if i == 'TP':\n",
    "            tp+=1\n",
    "        elif i == 'FP':\n",
    "            fp+=1\n",
    "        elif i == 'FN':\n",
    "            pass\n",
    "        else:\n",
    "            return 'Undefined Label'\n",
    "        precision = tp / float(tp+fp)\n",
    "        result.append(precision)\n",
    "    return np.array(result)"
   ]
  },
  {
   "cell_type": "markdown",
   "metadata": {},
   "source": [
    "#### Recall = TP/(TP+FN)"
   ]
  },
  {
   "cell_type": "code",
   "execution_count": 33,
   "metadata": {},
   "outputs": [],
   "source": [
    "def calculate_recall(labels,total_samples):\n",
    "    tp = 0\n",
    "    fp = 0\n",
    "    fn = 0\n",
    "    result = []\n",
    "    for i in labels:\n",
    "        if i == 'TP':\n",
    "            tp+=1\n",
    "        elif i == 'FP':\n",
    "            pass\n",
    "        elif i == 'FN':\n",
    "            fn+=1\n",
    "        else:\n",
    "            return 'Undefined Label'\n",
    "        recall = tp / float(total_samples)\n",
    "        result.append(recall)\n",
    "    return np.array(result)\n"
   ]
  },
  {
   "cell_type": "code",
   "execution_count": 54,
   "metadata": {},
   "outputs": [],
   "source": [
    "def calculate_interpolated_precision(precision,recall):\n",
    "    interpolated_pr = []\n",
    "    for r in recall:\n",
    "        p = []\n",
    "        for i in range(recall.shape[0]):\n",
    "            r_hat = recall[i]\n",
    "            if r_hat >= r:\n",
    "                p.append(precision[i])\n",
    "        p = np.array(p)\n",
    "        interpolated_pr.append(np.max(p))\n",
    "    return np.array(interpolated_pr)"
   ]
  },
  {
   "cell_type": "code",
   "execution_count": 55,
   "metadata": {},
   "outputs": [],
   "source": [
    "# gnd_truth_file = 'map/leaf_data_v2/test_gnd_truth.csv'\n",
    "# pred_file = 'map/leaf_data_v2/test_pred.csv'\n",
    "gnd_truth_file = 'test_gnd_truth.csv'\n",
    "pred_file = 'test_pred.csv'"
   ]
  },
  {
   "cell_type": "code",
   "execution_count": 56,
   "metadata": {},
   "outputs": [],
   "source": [
    "gnd_truth_df =  pd.read_csv(gnd_truth_file)\n",
    "pred_df = pd.read_csv(pred_file)"
   ]
  },
  {
   "cell_type": "code",
   "execution_count": 57,
   "metadata": {},
   "outputs": [
    {
     "data": {
      "text/html": [
       "<div>\n",
       "<style scoped>\n",
       "    .dataframe tbody tr th:only-of-type {\n",
       "        vertical-align: middle;\n",
       "    }\n",
       "\n",
       "    .dataframe tbody tr th {\n",
       "        vertical-align: top;\n",
       "    }\n",
       "\n",
       "    .dataframe thead th {\n",
       "        text-align: right;\n",
       "    }\n",
       "</style>\n",
       "<table border=\"1\" class=\"dataframe\">\n",
       "  <thead>\n",
       "    <tr style=\"text-align: right;\">\n",
       "      <th></th>\n",
       "      <th>filename</th>\n",
       "      <th>label</th>\n",
       "      <th>xmin</th>\n",
       "      <th>ymin</th>\n",
       "      <th>xmax</th>\n",
       "      <th>ymax</th>\n",
       "    </tr>\n",
       "  </thead>\n",
       "  <tbody>\n",
       "    <tr>\n",
       "      <th>0</th>\n",
       "      <td>0</td>\n",
       "      <td>infected</td>\n",
       "      <td>0.765159</td>\n",
       "      <td>0.454003</td>\n",
       "      <td>1.000000</td>\n",
       "      <td>0.739817</td>\n",
       "    </tr>\n",
       "    <tr>\n",
       "      <th>1</th>\n",
       "      <td>0</td>\n",
       "      <td>infected</td>\n",
       "      <td>0.717118</td>\n",
       "      <td>0.809340</td>\n",
       "      <td>0.793843</td>\n",
       "      <td>1.000000</td>\n",
       "    </tr>\n",
       "    <tr>\n",
       "      <th>2</th>\n",
       "      <td>0</td>\n",
       "      <td>infected</td>\n",
       "      <td>0.098647</td>\n",
       "      <td>0.524228</td>\n",
       "      <td>0.188433</td>\n",
       "      <td>0.768961</td>\n",
       "    </tr>\n",
       "    <tr>\n",
       "      <th>3</th>\n",
       "      <td>0</td>\n",
       "      <td>infected</td>\n",
       "      <td>0.001866</td>\n",
       "      <td>0.146419</td>\n",
       "      <td>0.154618</td>\n",
       "      <td>0.496489</td>\n",
       "    </tr>\n",
       "    <tr>\n",
       "      <th>4</th>\n",
       "      <td>0</td>\n",
       "      <td>infected</td>\n",
       "      <td>0.001866</td>\n",
       "      <td>0.124298</td>\n",
       "      <td>0.363106</td>\n",
       "      <td>0.448736</td>\n",
       "    </tr>\n",
       "  </tbody>\n",
       "</table>\n",
       "</div>"
      ],
      "text/plain": [
       "   filename     label      xmin      ymin      xmax      ymax\n",
       "0         0  infected  0.765159  0.454003  1.000000  0.739817\n",
       "1         0  infected  0.717118  0.809340  0.793843  1.000000\n",
       "2         0  infected  0.098647  0.524228  0.188433  0.768961\n",
       "3         0  infected  0.001866  0.146419  0.154618  0.496489\n",
       "4         0  infected  0.001866  0.124298  0.363106  0.448736"
      ]
     },
     "execution_count": 57,
     "metadata": {},
     "output_type": "execute_result"
    }
   ],
   "source": [
    "gnd_truth_df.head(5)"
   ]
  },
  {
   "cell_type": "code",
   "execution_count": 58,
   "metadata": {},
   "outputs": [
    {
     "data": {
      "text/html": [
       "<div>\n",
       "<style scoped>\n",
       "    .dataframe tbody tr th:only-of-type {\n",
       "        vertical-align: middle;\n",
       "    }\n",
       "\n",
       "    .dataframe tbody tr th {\n",
       "        vertical-align: top;\n",
       "    }\n",
       "\n",
       "    .dataframe thead th {\n",
       "        text-align: right;\n",
       "    }\n",
       "</style>\n",
       "<table border=\"1\" class=\"dataframe\">\n",
       "  <thead>\n",
       "    <tr style=\"text-align: right;\">\n",
       "      <th></th>\n",
       "      <th>filename</th>\n",
       "      <th>label</th>\n",
       "      <th>xmin</th>\n",
       "      <th>ymin</th>\n",
       "      <th>xmax</th>\n",
       "      <th>ymax</th>\n",
       "      <th>objectness</th>\n",
       "    </tr>\n",
       "  </thead>\n",
       "  <tbody>\n",
       "    <tr>\n",
       "      <th>0</th>\n",
       "      <td>0</td>\n",
       "      <td>infected</td>\n",
       "      <td>0.087316</td>\n",
       "      <td>0.253710</td>\n",
       "      <td>0.219692</td>\n",
       "      <td>0.515210</td>\n",
       "      <td>0.470987</td>\n",
       "    </tr>\n",
       "    <tr>\n",
       "      <th>1</th>\n",
       "      <td>0</td>\n",
       "      <td>infected</td>\n",
       "      <td>0.191974</td>\n",
       "      <td>0.488370</td>\n",
       "      <td>0.306715</td>\n",
       "      <td>0.605475</td>\n",
       "      <td>0.415043</td>\n",
       "    </tr>\n",
       "    <tr>\n",
       "      <th>2</th>\n",
       "      <td>0</td>\n",
       "      <td>infected</td>\n",
       "      <td>0.108109</td>\n",
       "      <td>0.291362</td>\n",
       "      <td>0.190833</td>\n",
       "      <td>0.464478</td>\n",
       "      <td>0.378743</td>\n",
       "    </tr>\n",
       "    <tr>\n",
       "      <th>3</th>\n",
       "      <td>0</td>\n",
       "      <td>infected</td>\n",
       "      <td>0.283426</td>\n",
       "      <td>0.071166</td>\n",
       "      <td>0.366332</td>\n",
       "      <td>0.232455</td>\n",
       "      <td>0.377522</td>\n",
       "    </tr>\n",
       "    <tr>\n",
       "      <th>4</th>\n",
       "      <td>0</td>\n",
       "      <td>infected</td>\n",
       "      <td>0.195996</td>\n",
       "      <td>0.396782</td>\n",
       "      <td>0.303242</td>\n",
       "      <td>0.670297</td>\n",
       "      <td>0.293125</td>\n",
       "    </tr>\n",
       "  </tbody>\n",
       "</table>\n",
       "</div>"
      ],
      "text/plain": [
       "   filename     label      xmin      ymin      xmax      ymax  objectness\n",
       "0         0  infected  0.087316  0.253710  0.219692  0.515210    0.470987\n",
       "1         0  infected  0.191974  0.488370  0.306715  0.605475    0.415043\n",
       "2         0  infected  0.108109  0.291362  0.190833  0.464478    0.378743\n",
       "3         0  infected  0.283426  0.071166  0.366332  0.232455    0.377522\n",
       "4         0  infected  0.195996  0.396782  0.303242  0.670297    0.293125"
      ]
     },
     "execution_count": 58,
     "metadata": {},
     "output_type": "execute_result"
    }
   ],
   "source": [
    "pred_df.head(5)"
   ]
  },
  {
   "cell_type": "code",
   "execution_count": 59,
   "metadata": {},
   "outputs": [],
   "source": [
    "pred_file_groups = pred_df.groupby('filename').groups"
   ]
  },
  {
   "cell_type": "code",
   "execution_count": 60,
   "metadata": {},
   "outputs": [
    {
     "name": "stdout",
     "output_type": "stream",
     "text": [
      "     filename     label      xmin      ymin      xmax      ymax\n",
      "0           0  infected  0.765159  0.454003  1.000000  0.739817\n",
      "1           0  infected  0.717118  0.809340  0.793843  1.000000\n",
      "2           0  infected  0.098647  0.524228  0.188433  0.768961\n",
      "3           0  infected  0.001866  0.146419  0.154618  0.496489\n",
      "4           0  infected  0.001866  0.124298  0.363106  0.448736\n",
      "5           0  infected  0.418144  0.349719  0.536847  0.682935\n",
      "6           0  infected  0.605410  0.365871  0.751632  0.683989\n",
      "7           0  infected  0.440065  0.000702  0.679571  0.252809\n",
      "8           0  infected  0.387127  0.065309  0.464785  0.165379\n",
      "9           0  infected  0.208955  0.502809  0.471082  0.718048\n",
      "10          0  infected  0.190765  0.708216  0.476912  0.900632\n",
      "11          1  infected  0.439063  0.255556  0.603646  0.406481\n",
      "12          1  infected  0.753646  0.287037  1.000000  0.781481\n",
      "13          1  infected  0.464583  0.725926  0.881250  1.000000\n",
      "14          1  infected  0.045833  0.476852  0.332813  0.850926\n",
      "15          1  infected  0.481771  0.524074  0.555208  0.673148\n",
      "16          1  infected  0.348958  0.486111  0.465625  0.686111\n",
      "17          1  infected  0.362500  0.174074  0.422917  0.315741\n",
      "18          1  infected  0.001042  0.166667  0.046875  0.493519\n",
      "19          1  infected  0.006250  0.034259  0.173437  0.175926\n",
      "20          1  infected  0.291146  0.856481  0.444271  1.000000\n",
      "21          1  infected  0.714583  0.248148  0.864062  0.595370\n",
      "22          2  infected  0.586979  0.212037  0.958854  0.612037\n",
      "23          2  infected  0.468750  0.062963  0.543229  0.250000\n",
      "24          2  infected  0.566667  0.139815  0.644271  0.236111\n",
      "25          2  infected  0.411458  0.423148  0.546354  0.708333\n",
      "26          2  infected  0.119271  0.196296  0.179688  0.472222\n",
      "27          2  infected  0.191667  0.321296  0.265625  0.525926\n",
      "28          2  infected  0.388021  0.797222  0.547917  1.000000\n",
      "29          2  infected  0.602604  0.644444  0.721875  0.789815\n",
      "..        ...       ...       ...       ...       ...       ...\n",
      "259        34  infected  0.309375  0.422222  0.366667  0.507407\n",
      "260        34  infected  0.386979  0.679630  0.486979  0.787037\n",
      "261        34  infected  0.330729  0.760185  0.422917  0.925000\n",
      "262        34  infected  0.010937  0.669444  0.085938  0.961111\n",
      "263        34  infected  0.007292  0.006481  0.131771  0.186111\n",
      "264        34  infected  0.214583  0.427778  0.250000  0.537963\n",
      "265        34  infected  0.242708  0.473148  0.263542  0.545370\n",
      "266        34  infected  0.247917  0.649074  0.319792  0.707407\n",
      "267        35  infected  0.397396  0.110185  0.629167  0.577778\n",
      "268        35  infected  0.575000  0.394444  1.000000  0.967593\n",
      "269        35  infected  0.184896  0.837963  0.272396  1.000000\n",
      "270        35  infected  0.327604  0.809259  0.401042  0.928704\n",
      "271        36  infected  0.757812  0.103704  0.937500  0.406481\n",
      "272        36  infected  0.900521  0.049074  0.931250  0.202778\n",
      "273        36  infected  0.893229  0.001852  0.942708  0.056481\n",
      "274        36  infected  0.861979  0.001852  0.894271  0.052778\n",
      "275        36  infected  0.356250  0.017593  0.493229  0.128704\n",
      "276        36  infected  0.284896  0.168519  0.348958  0.232407\n",
      "277        36  infected  0.054167  0.264815  0.153125  0.500926\n",
      "278        36  infected  0.831250  0.622222  0.909896  0.762037\n",
      "279        36  infected  0.675000  0.437037  0.723958  0.550000\n",
      "280        36  infected  0.549479  0.814815  0.641146  0.947222\n",
      "281        36  infected  0.427604  0.689815  0.541146  0.835185\n",
      "282        36  infected  0.839583  0.778704  0.915104  0.825926\n",
      "283        36  infected  0.842187  0.351852  0.906771  0.421296\n",
      "284        37  infected  0.279618  0.097612  0.632229  0.845506\n",
      "285        38  infected  0.000521  0.327778  0.370833  0.994444\n",
      "286        38  infected  0.630208  0.507407  0.868750  0.783333\n",
      "287        38  infected  0.550521  0.262037  0.676042  0.543519\n",
      "288        38  infected  0.147917  0.006481  0.684896  0.356481\n",
      "\n",
      "[289 rows x 6 columns]\n"
     ]
    }
   ],
   "source": [
    "#For infected\n",
    "gnd_truth_df = gnd_truth_df[gnd_truth_df['label'] == 'infected'].reset_index(drop=True)\n",
    "print(gnd_truth_df)\n",
    "n_infected = gnd_truth_df.shape[0]\n",
    "gnd_file_groups = gnd_truth_df.groupby('filename').groups\n",
    "labels = []\n",
    "infected_pred = pd.DataFrame(columns=['filename', 'label', 'xmin', 'ymin', 'xmax', 'ymax', 'objectness'])\n",
    "#Label all the predictions(TP,FP,FN)\n",
    "for i,j in gnd_file_groups.items():\n",
    "    if i not in pred_file_groups.keys():\n",
    "        continue\n",
    "    gnd = gnd_truth_df.iloc[j].reset_index(drop=True)\n",
    "    pred = pred_df.iloc[pred_file_groups[i]].reset_index(drop=True)\n",
    "    labels+=asssign_label(gnd,pred)\n",
    "    infected_pred = infected_pred.append(pred).reset_index(drop=True)\n",
    "infected_pred['label'] = labels\n",
    "infected_pred = infected_pred.sort_values('objectness',ascending=False).reset_index(drop=True)\n",
    "labels = infected_pred['label']\n",
    "precision = calculate_precision(labels)\n",
    "recall = calculate_recall(labels,n_infected)\n",
    "interpo_pr = calculate_interpolated_precision(precision,recall)\n",
    "\n",
    "infected_recall = recall\n",
    "infected_precision = interpo_pr"
   ]
  },
  {
   "cell_type": "code",
   "execution_count": 61,
   "metadata": {},
   "outputs": [],
   "source": [
    "infected_pred['precision'] = precision\n",
    "infected_pred['recall'] = recall\n",
    "infected_pred['interpo_pr'] = interpo_pr"
   ]
  },
  {
   "cell_type": "code",
   "execution_count": 62,
   "metadata": {},
   "outputs": [
    {
     "data": {
      "text/html": [
       "<div>\n",
       "<style scoped>\n",
       "    .dataframe tbody tr th:only-of-type {\n",
       "        vertical-align: middle;\n",
       "    }\n",
       "\n",
       "    .dataframe tbody tr th {\n",
       "        vertical-align: top;\n",
       "    }\n",
       "\n",
       "    .dataframe thead th {\n",
       "        text-align: right;\n",
       "    }\n",
       "</style>\n",
       "<table border=\"1\" class=\"dataframe\">\n",
       "  <thead>\n",
       "    <tr style=\"text-align: right;\">\n",
       "      <th></th>\n",
       "      <th>filename</th>\n",
       "      <th>label</th>\n",
       "      <th>xmin</th>\n",
       "      <th>ymin</th>\n",
       "      <th>xmax</th>\n",
       "      <th>ymax</th>\n",
       "      <th>objectness</th>\n",
       "      <th>precision</th>\n",
       "      <th>recall</th>\n",
       "      <th>interpo_pr</th>\n",
       "    </tr>\n",
       "  </thead>\n",
       "  <tbody>\n",
       "    <tr>\n",
       "      <th>0</th>\n",
       "      <td>2</td>\n",
       "      <td>TP</td>\n",
       "      <td>0.606893</td>\n",
       "      <td>0.149920</td>\n",
       "      <td>1.000000</td>\n",
       "      <td>0.549066</td>\n",
       "      <td>0.878107</td>\n",
       "      <td>1.000000</td>\n",
       "      <td>0.003460</td>\n",
       "      <td>1.000000</td>\n",
       "    </tr>\n",
       "    <tr>\n",
       "      <th>1</th>\n",
       "      <td>3</td>\n",
       "      <td>TP</td>\n",
       "      <td>0.586051</td>\n",
       "      <td>0.157897</td>\n",
       "      <td>1.000000</td>\n",
       "      <td>0.537201</td>\n",
       "      <td>0.869393</td>\n",
       "      <td>1.000000</td>\n",
       "      <td>0.006920</td>\n",
       "      <td>1.000000</td>\n",
       "    </tr>\n",
       "    <tr>\n",
       "      <th>2</th>\n",
       "      <td>3</td>\n",
       "      <td>FP</td>\n",
       "      <td>0.371538</td>\n",
       "      <td>0.574787</td>\n",
       "      <td>0.439813</td>\n",
       "      <td>0.691978</td>\n",
       "      <td>0.852274</td>\n",
       "      <td>0.666667</td>\n",
       "      <td>0.006920</td>\n",
       "      <td>1.000000</td>\n",
       "    </tr>\n",
       "    <tr>\n",
       "      <th>3</th>\n",
       "      <td>2</td>\n",
       "      <td>FP</td>\n",
       "      <td>0.359104</td>\n",
       "      <td>0.581248</td>\n",
       "      <td>0.439213</td>\n",
       "      <td>0.671105</td>\n",
       "      <td>0.841211</td>\n",
       "      <td>0.500000</td>\n",
       "      <td>0.006920</td>\n",
       "      <td>1.000000</td>\n",
       "    </tr>\n",
       "    <tr>\n",
       "      <th>4</th>\n",
       "      <td>2</td>\n",
       "      <td>TP</td>\n",
       "      <td>0.582630</td>\n",
       "      <td>0.646069</td>\n",
       "      <td>0.698273</td>\n",
       "      <td>0.780115</td>\n",
       "      <td>0.838463</td>\n",
       "      <td>0.600000</td>\n",
       "      <td>0.010381</td>\n",
       "      <td>0.611111</td>\n",
       "    </tr>\n",
       "    <tr>\n",
       "      <th>5</th>\n",
       "      <td>36</td>\n",
       "      <td>FP</td>\n",
       "      <td>0.612776</td>\n",
       "      <td>0.441205</td>\n",
       "      <td>0.697597</td>\n",
       "      <td>0.557697</td>\n",
       "      <td>0.829037</td>\n",
       "      <td>0.500000</td>\n",
       "      <td>0.010381</td>\n",
       "      <td>0.611111</td>\n",
       "    </tr>\n",
       "    <tr>\n",
       "      <th>6</th>\n",
       "      <td>3</td>\n",
       "      <td>FP</td>\n",
       "      <td>0.427688</td>\n",
       "      <td>0.820252</td>\n",
       "      <td>0.587430</td>\n",
       "      <td>1.000000</td>\n",
       "      <td>0.825428</td>\n",
       "      <td>0.428571</td>\n",
       "      <td>0.010381</td>\n",
       "      <td>0.611111</td>\n",
       "    </tr>\n",
       "    <tr>\n",
       "      <th>7</th>\n",
       "      <td>2</td>\n",
       "      <td>TP</td>\n",
       "      <td>0.565476</td>\n",
       "      <td>0.148970</td>\n",
       "      <td>0.646438</td>\n",
       "      <td>0.253471</td>\n",
       "      <td>0.822767</td>\n",
       "      <td>0.500000</td>\n",
       "      <td>0.013841</td>\n",
       "      <td>0.611111</td>\n",
       "    </tr>\n",
       "    <tr>\n",
       "      <th>8</th>\n",
       "      <td>2</td>\n",
       "      <td>TP</td>\n",
       "      <td>0.369966</td>\n",
       "      <td>0.035116</td>\n",
       "      <td>0.453107</td>\n",
       "      <td>0.167467</td>\n",
       "      <td>0.798619</td>\n",
       "      <td>0.555556</td>\n",
       "      <td>0.017301</td>\n",
       "      <td>0.611111</td>\n",
       "    </tr>\n",
       "    <tr>\n",
       "      <th>9</th>\n",
       "      <td>36</td>\n",
       "      <td>FP</td>\n",
       "      <td>0.510408</td>\n",
       "      <td>0.804278</td>\n",
       "      <td>0.620837</td>\n",
       "      <td>0.934477</td>\n",
       "      <td>0.781439</td>\n",
       "      <td>0.500000</td>\n",
       "      <td>0.017301</td>\n",
       "      <td>0.611111</td>\n",
       "    </tr>\n",
       "  </tbody>\n",
       "</table>\n",
       "</div>"
      ],
      "text/plain": [
       "  filename label      xmin      ymin      xmax      ymax  objectness  \\\n",
       "0        2    TP  0.606893  0.149920  1.000000  0.549066    0.878107   \n",
       "1        3    TP  0.586051  0.157897  1.000000  0.537201    0.869393   \n",
       "2        3    FP  0.371538  0.574787  0.439813  0.691978    0.852274   \n",
       "3        2    FP  0.359104  0.581248  0.439213  0.671105    0.841211   \n",
       "4        2    TP  0.582630  0.646069  0.698273  0.780115    0.838463   \n",
       "5       36    FP  0.612776  0.441205  0.697597  0.557697    0.829037   \n",
       "6        3    FP  0.427688  0.820252  0.587430  1.000000    0.825428   \n",
       "7        2    TP  0.565476  0.148970  0.646438  0.253471    0.822767   \n",
       "8        2    TP  0.369966  0.035116  0.453107  0.167467    0.798619   \n",
       "9       36    FP  0.510408  0.804278  0.620837  0.934477    0.781439   \n",
       "\n",
       "   precision    recall  interpo_pr  \n",
       "0   1.000000  0.003460    1.000000  \n",
       "1   1.000000  0.006920    1.000000  \n",
       "2   0.666667  0.006920    1.000000  \n",
       "3   0.500000  0.006920    1.000000  \n",
       "4   0.600000  0.010381    0.611111  \n",
       "5   0.500000  0.010381    0.611111  \n",
       "6   0.428571  0.010381    0.611111  \n",
       "7   0.500000  0.013841    0.611111  \n",
       "8   0.555556  0.017301    0.611111  \n",
       "9   0.500000  0.017301    0.611111  "
      ]
     },
     "execution_count": 62,
     "metadata": {},
     "output_type": "execute_result"
    }
   ],
   "source": [
    "infected_pred.head(10)"
   ]
  },
  {
   "cell_type": "markdown",
   "metadata": {},
   "source": [
    "#### Precision vs Interpolated Precision and area under the graph"
   ]
  },
  {
   "cell_type": "code",
   "execution_count": 63,
   "metadata": {},
   "outputs": [
    {
     "data": {
      "text/plain": [
       "<matplotlib.legend.Legend at 0x1e624a74c88>"
      ]
     },
     "execution_count": 63,
     "metadata": {},
     "output_type": "execute_result"
    },
    {
     "name": "stderr",
     "output_type": "stream",
     "text": [
      "D:\\Anaconda\\lib\\site-packages\\matplotlib\\font_manager.py:1328: UserWarning: findfont: Font family ['normal'] not found. Falling back to DejaVu Sans\n",
      "  (prop.get_family(), self.defaultFamily[fontext]))\n"
     ]
    },
    {
     "data": {
      "image/png": "[encoded data removed]",
      "text/plain": [
       "<Figure size 432x288 with 1 Axes>"
      ]
     },
     "metadata": {},
     "output_type": "display_data"
    }
   ],
   "source": [
    "plt.xlabel('recall',)\n",
    "plt.ylabel('precision')\n",
    "plt.title('Precision Vs Recall for infected')\n",
    "plt.plot(recall,precision,label='precision')\n",
    "plt.plot(recall,interpo_pr,label='interpolated_precision')\n",
    "plt.legend()"
   ]
  },
  {
   "cell_type": "code",
   "execution_count": 64,
   "metadata": {},
   "outputs": [
    {
     "name": "stdout",
     "output_type": "stream",
     "text": [
      "mAP For Infected =  0.6527089072543617\n"
     ]
    }
   ],
   "source": [
    "sampled_recall = np.linspace(0,1.0,11)\n",
    "sampled_precision = calculate_interpolated_precision(precision,sampled_recall)\n",
    "mAP_infected = np.average(sampled_precision)\n",
    "print('mAP For Infected = ',mAP_infected )"
   ]
  },
  {
   "cell_type": "code",
   "execution_count": 65,
   "metadata": {},
   "outputs": [],
   "source": [
    "#For not_infected\n",
    "gnd_truth_df =  pd.read_csv(gnd_truth_file)\n",
    "pred_df = pd.read_csv(pred_file)\n",
    "pred_file_groups = pred_df.groupby('filename').groups\n",
    "gnd_truth_df = gnd_truth_df[gnd_truth_df['label'] == 'not_infected'].reset_index(drop=True)\n",
    "n_infected = gnd_truth_df.shape[0]\n",
    "gnd_file_groups = gnd_truth_df.groupby('filename').groups\n",
    "labels = []\n",
    "infected_pred = pd.DataFrame(columns=['filename', 'label', 'xmin', 'ymin', 'xmax', 'ymax', 'objectness'])\n",
    "#Label all the predictions(TP,FP,FN)\n",
    "for i,j in gnd_file_groups.items():\n",
    "    if i not in pred_file_groups.keys():\n",
    "        continue\n",
    "    gnd = gnd_truth_df.iloc[j].reset_index(drop=True)\n",
    "    pred = pred_df.iloc[pred_file_groups[i]].reset_index(drop=True)\n",
    "    labels+=asssign_label(gnd,pred)\n",
    "    infected_pred = infected_pred.append(pred).reset_index(drop=True)\n",
    "infected_pred['label'] = labels\n",
    "infected_pred = infected_pred.sort_values('objectness',ascending=False).reset_index(drop=True)\n",
    "labels = infected_pred['label']\n",
    "precision = calculate_precision(labels)\n",
    "recall = calculate_recall(labels,n_infected)\n",
    "interpo_pr = calculate_interpolated_precision(precision,recall)\n",
    "\n",
    "not_infected_recall = recall\n",
    "not_infected_precision = interpo_pr"
   ]
  },
  {
   "cell_type": "code",
   "execution_count": 66,
   "metadata": {},
   "outputs": [
    {
     "name": "stderr",
     "output_type": "stream",
     "text": [
      "D:\\Anaconda\\lib\\site-packages\\matplotlib\\font_manager.py:1328: UserWarning: findfont: Font family ['normal'] not found. Falling back to DejaVu Sans\n",
      "  (prop.get_family(), self.defaultFamily[fontext]))\n"
     ]
    },
    {
     "data": {
      "image/png": "[encoded data removed]",
      "text/plain": [
       "<Figure size 432x288 with 1 Axes>"
      ]
     },
     "metadata": {},
     "output_type": "display_data"
    }
   ],
   "source": [
    "plt.xlabel('recall',)\n",
    "plt.ylabel('precision')\n",
    "plt.title('Precision Vs Recall for not_infected')\n",
    "plt.plot(recall,precision,label='precision')\n",
    "plt.plot(recall,interpo_pr,label='interpolated_precision')\n",
    "plt.legend()\n",
    "plt.show()"
   ]
  },
  {
   "cell_type": "code",
   "execution_count": 67,
   "metadata": {},
   "outputs": [
    {
     "name": "stdout",
     "output_type": "stream",
     "text": [
      "mAP For no_infected =  0.17604945559491014\n"
     ]
    }
   ],
   "source": [
    "sampled_recall = np.linspace(0.0,0.9,11)\n",
    "sampled_precision = calculate_interpolated_precision(precision,sampled_recall)\n",
    "mAP_not_infected = np.average(sampled_precision)\n",
    "print('mAP For no_infected = ',mAP_not_infected )"
   ]
  },
  {
   "cell_type": "markdown",
   "metadata": {},
   "source": [
    "#### Total mAP"
   ]
  },
  {
   "cell_type": "code",
   "execution_count": 68,
   "metadata": {},
   "outputs": [],
   "source": [
    "mAP = (mAP_infected + mAP_not_infected) / 2"
   ]
  },
  {
   "cell_type": "code",
   "execution_count": 69,
   "metadata": {},
   "outputs": [
    {
     "name": "stdout",
     "output_type": "stream",
     "text": [
      "mAp =  0.4143791814246359\n"
     ]
    }
   ],
   "source": [
    "print('mAp = ',mAP )"
   ]
  },
  {
   "cell_type": "code",
   "execution_count": 70,
   "metadata": {},
   "outputs": [
    {
     "name": "stderr",
     "output_type": "stream",
     "text": [
      "D:\\Anaconda\\lib\\site-packages\\matplotlib\\font_manager.py:1328: UserWarning: findfont: Font family ['normal'] not found. Falling back to DejaVu Sans\n",
      "  (prop.get_family(), self.defaultFamily[fontext]))\n"
     ]
    },
    {
     "data": {
      "image/png": "[encoded data removed]",
      "text/plain": [
       "<Figure size 432x288 with 1 Axes>"
      ]
     },
     "metadata": {},
     "output_type": "display_data"
    }
   ],
   "source": [
    "plt.xlabel('recall',)\n",
    "plt.ylabel('precision')\n",
    "plt.title('Precision Vs Recall for both classes')\n",
    "plt.plot(infected_recall,infected_precision,label='infected')\n",
    "plt.plot(not_infected_recall,not_infected_precision,label='not_infected')\n",
    "plt.legend()\n",
    "plt.show()"
   ]
  },
  {
   "cell_type": "markdown",
   "metadata": {},
   "source": []
  },
  {
   "cell_type": "code",
   "execution_count": null,
   "metadata": {},
   "outputs": [],
   "source": []
  }
 ],
 "metadata": {
  "kernelspec": {
   "display_name": "Python 3",
   "language": "python",
   "name": "python3"
  },
  "language_info": {
   "codemirror_mode": {
    "name": "ipython",
    "version": 3
   },
   "file_extension": ".py",
   "mimetype": "text/x-python",
   "name": "python",
   "nbconvert_exporter": "python",
   "pygments_lexer": "ipython3",
   "version": "3.6.5"
  }
 },
 "nbformat": 4,
 "nbformat_minor": 2
}
