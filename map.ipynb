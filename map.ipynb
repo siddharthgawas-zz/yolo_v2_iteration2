{
 "cells": [
  {
   "cell_type": "code",
   "execution_count": 161,
   "metadata": {},
   "outputs": [],
   "source": [
    "import numpy as np\n",
    "import pandas as pd\n",
    "import matplotlib.pyplot as plt\n",
    "%matplotlib inline"
   ]
  },
  {
   "cell_type": "code",
   "execution_count": 162,
   "metadata": {},
   "outputs": [],
   "source": [
    "def intersection_over_union(boxA, boxB):\n",
    "    \"\"\"\n",
    "    Finds the intersection over union between boxes boxA and boxB\n",
    "    Parameters\n",
    "    ---------------------------------------------------------------------------\n",
    "    boxA: list of 4 coordinates of bounding boxA x1,y1,x2,y2\n",
    "    boxB: list of 4 coordinates of bounding boxB x1, y1, x2, y2\n",
    "    Returns\n",
    "    ---------------------------------------------------------------------------\n",
    "    Intersection over union of two bounding boxes\n",
    "    \"\"\"\n",
    "    xA = np.maximum(boxA[:,0], boxB[:,0])\n",
    "    yA = np.maximum(boxA[:,1], boxB[:,1])\n",
    "    xB = np.minimum(boxA[:,2], boxB[:,2])\n",
    "    yB = np.minimum(boxA[:,3], boxB[:,3])\n",
    "\n",
    "    interArea = np.maximum(0, xB - xA ) * np.maximum(0, yB - yA )\n",
    "    boxAArea = (boxA[:,2] - boxA[:,0] ) * (boxA[:,3] - boxA[:,1] )\n",
    "    boxBArea = (boxB[:,2] - boxB[:,0]) * (boxB[:,3] - boxB[:,1])\n",
    "    iou = interArea / (boxAArea + boxBArea - interArea)\n",
    "    return np.reshape(iou,(-1,1))"
   ]
  },
  {
   "cell_type": "code",
   "execution_count": 163,
   "metadata": {},
   "outputs": [],
   "source": [
    "def get_max_overlap_idx(boxA,boxB):\n",
    "    n_gnd = boxA.shape[0]\n",
    "    n_pred = boxB.shape[0]\n",
    "    box1 = np.reshape(boxA,(-1,1,4))\n",
    "    box1 = np.tile(box1,(1,n_pred,1))\n",
    "    box2 = np.reshape(boxB,(-1,n_pred,4))\n",
    "    box2 = np.tile(box2,(n_gnd,1,1))\n",
    "    box1 = np.reshape(box1,(-1,4))\n",
    "    box2 = np.reshape(box2,(-1,4))\n",
    "    iou = intersection_over_union(box1,box2)\n",
    "    iou = np.reshape(iou,(-1,n_pred))\n",
    "    max_overlap_idx = np.argmax(iou,axis=1)\n",
    "    return max_overlap_idx"
   ]
  },
  {
   "cell_type": "code",
   "execution_count": 164,
   "metadata": {},
   "outputs": [],
   "source": [
    "IOU_THRESH = 0.5\n",
    "def match_gnd_with_pred(gnd_box,pred_box):\n",
    "    boxA = gnd_box\n",
    "    boxB = pred_box\n",
    "    n_gnd = boxA.shape[0]\n",
    "    n_pred = boxB.shape[0]\n",
    "    max_overlap_idx = get_max_overlap_idx(boxA,boxB)\n",
    "    max_overlap_idx2 = get_max_overlap_idx(boxB,boxA)\n",
    "    matched_boxes = []\n",
    "    for i in range(n_gnd):\n",
    "        j = max_overlap_idx[i]\n",
    "        k = max_overlap_idx2[j]\n",
    "        iou  = intersection_over_union(boxA[i].reshape((-1,4)),boxB[j].reshape((-1,4)))\n",
    "        if i == k and iou >= 0.5:\n",
    "            matched_boxes.append([i,j])\n",
    "    matched_boxes = np.array(matched_boxes)\n",
    "    return matched_boxes"
   ]
  },
  {
   "cell_type": "code",
   "execution_count": 165,
   "metadata": {},
   "outputs": [],
   "source": [
    "def confusion_matrix(gnd,pred):\n",
    "    n_gnd = gnd.shape[0]\n",
    "    label_idx = {\n",
    "    'infected': 0,\n",
    "    'not_infected': 1,\n",
    "    'no_obj': 3\n",
    "    }\n",
    "    confusion_matrix = np.zeros(shape=(3,3))\n",
    "    #If no predictions are made for ground truth\n",
    "    if pred is None:\n",
    "        for i in range(n_gnd):\n",
    "            box_gnd = gnd.iloc[i]\n",
    "            label_i = label_idx[box_gnd['label']]\n",
    "            confusion_matrix[label_i,2] = confusion_matrix[label_i,2]+1\n",
    "        return np.array(confusion_matrix)\n",
    "            \n",
    "    n_pred = pred.shape[0]\n",
    "    boxA = np.array(gnd[['xmin','ymin','xmax','ymax']])\n",
    "    boxB = np.array(pred[['xmin','ymin','xmax','ymax']])\n",
    "    matched_boxes = match_gnd_with_pred(boxA,boxB)\n",
    "    #if no match is found\n",
    "    if(matched_boxes.shape[0] == 0):\n",
    "        for i in range(n_gnd):\n",
    "            box_gnd = gnd.iloc[i]\n",
    "            label_i = label_idx[box_gnd['label']]\n",
    "            confusion_matrix[label_i,2] = confusion_matrix[label_i,2]+1\n",
    "            \n",
    "        for i in range(n_pred):\n",
    "            box = pred.iloc[i]\n",
    "            idx = label_idx[box['label']]\n",
    "            confusion_matrix[2,idx] = confusion_matrix[2,idx]+1\n",
    "        return np.array(confusion_matrix)\n",
    "    \n",
    "    \n",
    "    matched_gnd = matched_boxes[:,0]\n",
    "    matched_preds = matched_boxes[:,1]\n",
    "\n",
    "\n",
    "    for i in range(n_pred):\n",
    "        if i not in matched_preds:\n",
    "            box = pred.iloc[i]\n",
    "            idx = label_idx[box['label']]\n",
    "            confusion_matrix[2,idx] = confusion_matrix[2,idx]+1\n",
    "        else:\n",
    "            box = pred.iloc[i]\n",
    "            idx = np.argwhere(matched_preds==i).flatten()[0]\n",
    "            gnd_idx = matched_boxes[idx,0]\n",
    "            box_gnd = gnd.iloc[gnd_idx]\n",
    "            label_i = label_idx[box_gnd['label']]\n",
    "            label_j = label_idx[box['label']]\n",
    "            confusion_matrix[label_i,label_j] = confusion_matrix[label_i,label_j]+1\n",
    "\n",
    "    for i in range(n_gnd):\n",
    "        if i not in matched_gnd:\n",
    "            box_gnd = gnd.iloc[i]\n",
    "            label_i = label_idx[box_gnd['label']]\n",
    "            confusion_matrix[label_i,2] = confusion_matrix[label_i,2]+1\n",
    "    return np.array(confusion_matrix)\n"
   ]
  },
  {
   "cell_type": "code",
   "execution_count": 166,
   "metadata": {},
   "outputs": [],
   "source": [
    "def asssign_label(gnd,pred):\n",
    "    label_idx = {\n",
    "    'infected': 0,\n",
    "    'not_infected': 1,\n",
    "    }\n",
    "    n_gnd = gnd.shape[0]\n",
    "    n_pred = pred.shape[0]\n",
    "    labels = []\n",
    "    boxA = np.array(gnd[['xmin','ymin','xmax','ymax']])\n",
    "    boxB = np.array(pred[['xmin','ymin','xmax','ymax']])\n",
    "    matched_boxes = match_gnd_with_pred(boxA,boxB)\n",
    "    \n",
    "    if(matched_boxes.shape[0] == 0):\n",
    "        for i in range(n_pred):\n",
    "            labels.append('FP')\n",
    "        return labels\n",
    "    \n",
    "    matched_gnd = matched_boxes[:,0]\n",
    "    matched_preds = matched_boxes[:,1]\n",
    "    \n",
    "    for i in range(n_pred):\n",
    "        if i in matched_preds:\n",
    "            pred_label = pred.iloc[i]['label']\n",
    "            idx = np.argwhere(matched_preds == i).flatten()[0]\n",
    "            gnd_box = gnd.iloc[matched_gnd[idx]]\n",
    "            gnd_label = gnd_box['label']\n",
    "            if pred_label == gnd_label:\n",
    "                labels.append('TP')\n",
    "            else:\n",
    "                labels.append('FN')\n",
    "        else:\n",
    "            labels.append('FP')\n",
    "    return labels"
   ]
  },
  {
   "cell_type": "code",
   "execution_count": 167,
   "metadata": {},
   "outputs": [],
   "source": [
    "def calculate_precision(labels):\n",
    "    tp = 0\n",
    "    fp = 0\n",
    "    fn = 0\n",
    "    result = []\n",
    "    for i in labels:\n",
    "        if i == 'TP':\n",
    "            tp+=1\n",
    "        elif i == 'FP':\n",
    "            fp+=1\n",
    "        elif i == 'FN':\n",
    "            pass\n",
    "        else:\n",
    "            return 'Undefined Label'\n",
    "        precision = tp / float(tp+fp)\n",
    "        result.append(precision)\n",
    "    return np.array(result)"
   ]
  },
  {
   "cell_type": "code",
   "execution_count": 168,
   "metadata": {},
   "outputs": [],
   "source": [
    "def calculate_recall(labels,total_samples):\n",
    "    tp = 0\n",
    "    fp = 0\n",
    "    fn = 0\n",
    "    result = []\n",
    "    for i in labels:\n",
    "        if i == 'TP':\n",
    "            tp+=1\n",
    "        elif i == 'FP':\n",
    "            pass\n",
    "        elif i == 'FN':\n",
    "            fn+=1\n",
    "        else:\n",
    "            return 'Undefined Label'\n",
    "        recall = tp / float(total_samples)\n",
    "        result.append(recall)\n",
    "    return np.array(result)\n"
   ]
  },
  {
   "cell_type": "code",
   "execution_count": 169,
   "metadata": {},
   "outputs": [],
   "source": [
    "def calculate_interpolated_precision(precision,recall):\n",
    "    interpolated_pr = []\n",
    "    for r in recall:\n",
    "        p = []\n",
    "        for i in range(recall.shape[0]):\n",
    "            r_hat = recall[i]\n",
    "            if r_hat >= r:\n",
    "                p.append(precision[i])\n",
    "        p = np.array(p)\n",
    "        interpolated_pr.append(np.max(p))\n",
    "    return np.array(interpolated_pr)"
   ]
  },
  {
   "cell_type": "code",
   "execution_count": 171,
   "metadata": {},
   "outputs": [],
   "source": [
    "gnd_truth_file = 'map/leaf_data_v2/test_gnd_truth.csv'\n",
    "pred_file = 'map/leaf_data_v2/test_pred.csv'"
   ]
  },
  {
   "cell_type": "code",
   "execution_count": 172,
   "metadata": {},
   "outputs": [],
   "source": [
    "gnd_truth_df =  pd.read_csv(gnd_truth_file)\n",
    "pred_df = pd.read_csv(pred_file)"
   ]
  },
  {
   "cell_type": "code",
   "execution_count": 173,
   "metadata": {},
   "outputs": [
    {
     "data": {
      "text/html": [
       "<div>\n",
       "<style scoped>\n",
       "    .dataframe tbody tr th:only-of-type {\n",
       "        vertical-align: middle;\n",
       "    }\n",
       "\n",
       "    .dataframe tbody tr th {\n",
       "        vertical-align: top;\n",
       "    }\n",
       "\n",
       "    .dataframe thead th {\n",
       "        text-align: right;\n",
       "    }\n",
       "</style>\n",
       "<table border=\"1\" class=\"dataframe\">\n",
       "  <thead>\n",
       "    <tr style=\"text-align: right;\">\n",
       "      <th></th>\n",
       "      <th>filename</th>\n",
       "      <th>label</th>\n",
       "      <th>xmin</th>\n",
       "      <th>ymin</th>\n",
       "      <th>xmax</th>\n",
       "      <th>ymax</th>\n",
       "    </tr>\n",
       "  </thead>\n",
       "  <tbody>\n",
       "    <tr>\n",
       "      <th>0</th>\n",
       "      <td>0</td>\n",
       "      <td>infected</td>\n",
       "      <td>0.765159</td>\n",
       "      <td>0.454003</td>\n",
       "      <td>1.000000</td>\n",
       "      <td>0.739817</td>\n",
       "    </tr>\n",
       "    <tr>\n",
       "      <th>1</th>\n",
       "      <td>0</td>\n",
       "      <td>infected</td>\n",
       "      <td>0.717118</td>\n",
       "      <td>0.809340</td>\n",
       "      <td>0.793843</td>\n",
       "      <td>1.000000</td>\n",
       "    </tr>\n",
       "    <tr>\n",
       "      <th>2</th>\n",
       "      <td>0</td>\n",
       "      <td>infected</td>\n",
       "      <td>0.098647</td>\n",
       "      <td>0.524228</td>\n",
       "      <td>0.188433</td>\n",
       "      <td>0.768961</td>\n",
       "    </tr>\n",
       "    <tr>\n",
       "      <th>3</th>\n",
       "      <td>0</td>\n",
       "      <td>infected</td>\n",
       "      <td>0.001866</td>\n",
       "      <td>0.146419</td>\n",
       "      <td>0.154618</td>\n",
       "      <td>0.496489</td>\n",
       "    </tr>\n",
       "    <tr>\n",
       "      <th>4</th>\n",
       "      <td>0</td>\n",
       "      <td>infected</td>\n",
       "      <td>0.001866</td>\n",
       "      <td>0.124298</td>\n",
       "      <td>0.363106</td>\n",
       "      <td>0.448736</td>\n",
       "    </tr>\n",
       "  </tbody>\n",
       "</table>\n",
       "</div>"
      ],
      "text/plain": [
       "   filename     label      xmin      ymin      xmax      ymax\n",
       "0         0  infected  0.765159  0.454003  1.000000  0.739817\n",
       "1         0  infected  0.717118  0.809340  0.793843  1.000000\n",
       "2         0  infected  0.098647  0.524228  0.188433  0.768961\n",
       "3         0  infected  0.001866  0.146419  0.154618  0.496489\n",
       "4         0  infected  0.001866  0.124298  0.363106  0.448736"
      ]
     },
     "execution_count": 173,
     "metadata": {},
     "output_type": "execute_result"
    }
   ],
   "source": [
    "gnd_truth_df.head(5)"
   ]
  },
  {
   "cell_type": "code",
   "execution_count": 174,
   "metadata": {},
   "outputs": [
    {
     "data": {
      "text/html": [
       "<div>\n",
       "<style scoped>\n",
       "    .dataframe tbody tr th:only-of-type {\n",
       "        vertical-align: middle;\n",
       "    }\n",
       "\n",
       "    .dataframe tbody tr th {\n",
       "        vertical-align: top;\n",
       "    }\n",
       "\n",
       "    .dataframe thead th {\n",
       "        text-align: right;\n",
       "    }\n",
       "</style>\n",
       "<table border=\"1\" class=\"dataframe\">\n",
       "  <thead>\n",
       "    <tr style=\"text-align: right;\">\n",
       "      <th></th>\n",
       "      <th>filename</th>\n",
       "      <th>label</th>\n",
       "      <th>xmin</th>\n",
       "      <th>ymin</th>\n",
       "      <th>xmax</th>\n",
       "      <th>ymax</th>\n",
       "      <th>objectness</th>\n",
       "    </tr>\n",
       "  </thead>\n",
       "  <tbody>\n",
       "    <tr>\n",
       "      <th>0</th>\n",
       "      <td>0</td>\n",
       "      <td>infected</td>\n",
       "      <td>0.038983</td>\n",
       "      <td>0.079007</td>\n",
       "      <td>0.305299</td>\n",
       "      <td>0.288233</td>\n",
       "      <td>0.457004</td>\n",
       "    </tr>\n",
       "    <tr>\n",
       "      <th>1</th>\n",
       "      <td>0</td>\n",
       "      <td>infected</td>\n",
       "      <td>0.267310</td>\n",
       "      <td>0.038246</td>\n",
       "      <td>0.419557</td>\n",
       "      <td>0.187269</td>\n",
       "      <td>0.235520</td>\n",
       "    </tr>\n",
       "    <tr>\n",
       "      <th>2</th>\n",
       "      <td>1</td>\n",
       "      <td>infected</td>\n",
       "      <td>0.297554</td>\n",
       "      <td>0.240871</td>\n",
       "      <td>0.437950</td>\n",
       "      <td>0.360220</td>\n",
       "      <td>0.252080</td>\n",
       "    </tr>\n",
       "    <tr>\n",
       "      <th>3</th>\n",
       "      <td>2</td>\n",
       "      <td>infected</td>\n",
       "      <td>0.294459</td>\n",
       "      <td>0.837727</td>\n",
       "      <td>0.363312</td>\n",
       "      <td>0.920598</td>\n",
       "      <td>0.731313</td>\n",
       "    </tr>\n",
       "    <tr>\n",
       "      <th>4</th>\n",
       "      <td>2</td>\n",
       "      <td>infected</td>\n",
       "      <td>0.903496</td>\n",
       "      <td>0.880695</td>\n",
       "      <td>0.989197</td>\n",
       "      <td>0.978741</td>\n",
       "      <td>0.676517</td>\n",
       "    </tr>\n",
       "  </tbody>\n",
       "</table>\n",
       "</div>"
      ],
      "text/plain": [
       "   filename     label      xmin      ymin      xmax      ymax  objectness\n",
       "0         0  infected  0.038983  0.079007  0.305299  0.288233    0.457004\n",
       "1         0  infected  0.267310  0.038246  0.419557  0.187269    0.235520\n",
       "2         1  infected  0.297554  0.240871  0.437950  0.360220    0.252080\n",
       "3         2  infected  0.294459  0.837727  0.363312  0.920598    0.731313\n",
       "4         2  infected  0.903496  0.880695  0.989197  0.978741    0.676517"
      ]
     },
     "execution_count": 174,
     "metadata": {},
     "output_type": "execute_result"
    }
   ],
   "source": [
    "pred_df.head(5)"
   ]
  },
  {
   "cell_type": "code",
   "execution_count": 175,
   "metadata": {},
   "outputs": [],
   "source": [
    "pred_file_groups = pred_df.groupby('filename').groups"
   ]
  },
  {
   "cell_type": "code",
   "execution_count": 176,
   "metadata": {},
   "outputs": [],
   "source": [
    "#For infected\n",
    "gnd_truth_df = gnd_truth_df[gnd_truth_df['label'] == 'infected'].reset_index(drop=True)\n",
    "n_infected = gnd_truth_df.shape[0]\n",
    "gnd_file_groups = gnd_truth_df.groupby('filename').groups\n",
    "labels = []\n",
    "infected_pred = pd.DataFrame(columns=['filename', 'label', 'xmin', 'ymin', 'xmax', 'ymax', 'objectness'])\n",
    "#Label all the predictions(TP,FP,FN)\n",
    "for i,j in gnd_file_groups.items():\n",
    "    if i not in pred_file_groups.keys():\n",
    "        continue\n",
    "    gnd = gnd_truth_df.iloc[j].reset_index(drop=True)\n",
    "    pred = pred_df.iloc[pred_file_groups[i]].reset_index(drop=True)\n",
    "    labels+=asssign_label(gnd,pred)\n",
    "    infected_pred = infected_pred.append(pred).reset_index(drop=True)\n",
    "infected_pred['label'] = labels\n",
    "infected_pred = infected_pred.sort_values('objectness',ascending=False).reset_index(drop=True)\n",
    "labels = infected_pred['label']\n",
    "precision = calculate_precision(labels)\n",
    "recall = calculate_recall(labels,n_infected)\n",
    "interpo_pr = calculate_interpolated_precision(precision,recall)\n",
    "\n",
    "infected_recall = recall\n",
    "infected_precision = interpo_pr"
   ]
  },
  {
   "cell_type": "code",
   "execution_count": 177,
   "metadata": {},
   "outputs": [],
   "source": [
    "infected_pred['precision'] = precision\n",
    "infected_pred['recall'] = recall\n",
    "infected_pred['interpo_pr'] = interpo_pr"
   ]
  },
  {
   "cell_type": "code",
   "execution_count": 178,
   "metadata": {},
   "outputs": [
    {
     "data": {
      "text/html": [
       "<div>\n",
       "<style scoped>\n",
       "    .dataframe tbody tr th:only-of-type {\n",
       "        vertical-align: middle;\n",
       "    }\n",
       "\n",
       "    .dataframe tbody tr th {\n",
       "        vertical-align: top;\n",
       "    }\n",
       "\n",
       "    .dataframe thead th {\n",
       "        text-align: right;\n",
       "    }\n",
       "</style>\n",
       "<table border=\"1\" class=\"dataframe\">\n",
       "  <thead>\n",
       "    <tr style=\"text-align: right;\">\n",
       "      <th></th>\n",
       "      <th>filename</th>\n",
       "      <th>label</th>\n",
       "      <th>xmin</th>\n",
       "      <th>ymin</th>\n",
       "      <th>xmax</th>\n",
       "      <th>ymax</th>\n",
       "      <th>objectness</th>\n",
       "      <th>precision</th>\n",
       "      <th>recall</th>\n",
       "      <th>interpo_pr</th>\n",
       "    </tr>\n",
       "  </thead>\n",
       "  <tbody>\n",
       "    <tr>\n",
       "      <th>0</th>\n",
       "      <td>34</td>\n",
       "      <td>TP</td>\n",
       "      <td>0.500965</td>\n",
       "      <td>0.587730</td>\n",
       "      <td>0.652882</td>\n",
       "      <td>0.758340</td>\n",
       "      <td>0.735848</td>\n",
       "      <td>1.000000</td>\n",
       "      <td>0.003460</td>\n",
       "      <td>1.000000</td>\n",
       "    </tr>\n",
       "    <tr>\n",
       "      <th>1</th>\n",
       "      <td>2</td>\n",
       "      <td>FP</td>\n",
       "      <td>0.294459</td>\n",
       "      <td>0.837727</td>\n",
       "      <td>0.363312</td>\n",
       "      <td>0.920598</td>\n",
       "      <td>0.731313</td>\n",
       "      <td>0.500000</td>\n",
       "      <td>0.003460</td>\n",
       "      <td>1.000000</td>\n",
       "    </tr>\n",
       "    <tr>\n",
       "      <th>2</th>\n",
       "      <td>35</td>\n",
       "      <td>TP</td>\n",
       "      <td>0.531199</td>\n",
       "      <td>0.416165</td>\n",
       "      <td>1.000000</td>\n",
       "      <td>1.000000</td>\n",
       "      <td>0.721040</td>\n",
       "      <td>0.666667</td>\n",
       "      <td>0.006920</td>\n",
       "      <td>0.666667</td>\n",
       "    </tr>\n",
       "    <tr>\n",
       "      <th>3</th>\n",
       "      <td>3</td>\n",
       "      <td>FP</td>\n",
       "      <td>0.910505</td>\n",
       "      <td>0.881793</td>\n",
       "      <td>0.973003</td>\n",
       "      <td>0.973742</td>\n",
       "      <td>0.718968</td>\n",
       "      <td>0.500000</td>\n",
       "      <td>0.006920</td>\n",
       "      <td>0.666667</td>\n",
       "    </tr>\n",
       "    <tr>\n",
       "      <th>4</th>\n",
       "      <td>33</td>\n",
       "      <td>FN</td>\n",
       "      <td>0.161994</td>\n",
       "      <td>0.376308</td>\n",
       "      <td>0.718900</td>\n",
       "      <td>0.789447</td>\n",
       "      <td>0.697972</td>\n",
       "      <td>0.500000</td>\n",
       "      <td>0.006920</td>\n",
       "      <td>0.666667</td>\n",
       "    </tr>\n",
       "    <tr>\n",
       "      <th>5</th>\n",
       "      <td>23</td>\n",
       "      <td>TP</td>\n",
       "      <td>0.068436</td>\n",
       "      <td>0.253424</td>\n",
       "      <td>0.715622</td>\n",
       "      <td>0.686370</td>\n",
       "      <td>0.683377</td>\n",
       "      <td>0.600000</td>\n",
       "      <td>0.010381</td>\n",
       "      <td>0.666667</td>\n",
       "    </tr>\n",
       "    <tr>\n",
       "      <th>6</th>\n",
       "      <td>2</td>\n",
       "      <td>TP</td>\n",
       "      <td>0.903496</td>\n",
       "      <td>0.880695</td>\n",
       "      <td>0.989197</td>\n",
       "      <td>0.978741</td>\n",
       "      <td>0.676517</td>\n",
       "      <td>0.666667</td>\n",
       "      <td>0.013841</td>\n",
       "      <td>0.666667</td>\n",
       "    </tr>\n",
       "    <tr>\n",
       "      <th>7</th>\n",
       "      <td>36</td>\n",
       "      <td>FP</td>\n",
       "      <td>0.788153</td>\n",
       "      <td>0.120667</td>\n",
       "      <td>1.000000</td>\n",
       "      <td>0.453023</td>\n",
       "      <td>0.666601</td>\n",
       "      <td>0.571429</td>\n",
       "      <td>0.013841</td>\n",
       "      <td>0.666667</td>\n",
       "    </tr>\n",
       "    <tr>\n",
       "      <th>8</th>\n",
       "      <td>34</td>\n",
       "      <td>TP</td>\n",
       "      <td>0.273620</td>\n",
       "      <td>0.026636</td>\n",
       "      <td>0.428746</td>\n",
       "      <td>0.183546</td>\n",
       "      <td>0.666072</td>\n",
       "      <td>0.625000</td>\n",
       "      <td>0.017301</td>\n",
       "      <td>0.666667</td>\n",
       "    </tr>\n",
       "    <tr>\n",
       "      <th>9</th>\n",
       "      <td>34</td>\n",
       "      <td>TP</td>\n",
       "      <td>0.465071</td>\n",
       "      <td>0.178037</td>\n",
       "      <td>0.828570</td>\n",
       "      <td>0.527371</td>\n",
       "      <td>0.645864</td>\n",
       "      <td>0.666667</td>\n",
       "      <td>0.020761</td>\n",
       "      <td>0.666667</td>\n",
       "    </tr>\n",
       "  </tbody>\n",
       "</table>\n",
       "</div>"
      ],
      "text/plain": [
       "  filename label      xmin      ymin      xmax      ymax  objectness  \\\n",
       "0       34    TP  0.500965  0.587730  0.652882  0.758340    0.735848   \n",
       "1        2    FP  0.294459  0.837727  0.363312  0.920598    0.731313   \n",
       "2       35    TP  0.531199  0.416165  1.000000  1.000000    0.721040   \n",
       "3        3    FP  0.910505  0.881793  0.973003  0.973742    0.718968   \n",
       "4       33    FN  0.161994  0.376308  0.718900  0.789447    0.697972   \n",
       "5       23    TP  0.068436  0.253424  0.715622  0.686370    0.683377   \n",
       "6        2    TP  0.903496  0.880695  0.989197  0.978741    0.676517   \n",
       "7       36    FP  0.788153  0.120667  1.000000  0.453023    0.666601   \n",
       "8       34    TP  0.273620  0.026636  0.428746  0.183546    0.666072   \n",
       "9       34    TP  0.465071  0.178037  0.828570  0.527371    0.645864   \n",
       "\n",
       "   precision    recall  interpo_pr  \n",
       "0   1.000000  0.003460    1.000000  \n",
       "1   0.500000  0.003460    1.000000  \n",
       "2   0.666667  0.006920    0.666667  \n",
       "3   0.500000  0.006920    0.666667  \n",
       "4   0.500000  0.006920    0.666667  \n",
       "5   0.600000  0.010381    0.666667  \n",
       "6   0.666667  0.013841    0.666667  \n",
       "7   0.571429  0.013841    0.666667  \n",
       "8   0.625000  0.017301    0.666667  \n",
       "9   0.666667  0.020761    0.666667  "
      ]
     },
     "execution_count": 178,
     "metadata": {},
     "output_type": "execute_result"
    }
   ],
   "source": [
    "infected_pred.head(10)"
   ]
  },
  {
   "cell_type": "code",
   "execution_count": 179,
   "metadata": {},
   "outputs": [
    {
     "data": {
      "image/png": "[encoded data removed]",
      "text/plain": [
       "<Figure size 432x288 with 1 Axes>"
      ]
     },
     "metadata": {
      "needs_background": "light"
     },
     "output_type": "display_data"
    }
   ],
   "source": [
    "plt.xlabel('recall',)\n",
    "plt.ylabel('precision')\n",
    "plt.title('Precision Vs Recall for infected')\n",
    "plt.plot(recall,precision,label='precision')\n",
    "plt.plot(recall,interpo_pr,label='interpolated_precision')\n",
    "plt.legend()\n",
    "plt.show()"
   ]
  },
  {
   "cell_type": "code",
   "execution_count": 180,
   "metadata": {},
   "outputs": [
    {
     "name": "stdout",
     "output_type": "stream",
     "text": [
      "mAP For Infected =  0.6909090909090909\n"
     ]
    }
   ],
   "source": [
    "sampled_recall = np.linspace(0,1.0,11)\n",
    "sampled_precision = calculate_interpolated_precision(precision,sampled_recall)\n",
    "mAP_infected = np.average(sampled_precision)\n",
    "print('mAP For Infected = ',mAP_infected )"
   ]
  },
  {
   "cell_type": "code",
   "execution_count": 181,
   "metadata": {},
   "outputs": [],
   "source": [
    "#For not_infected\n",
    "gnd_truth_df =  pd.read_csv(gnd_truth_file)\n",
    "pred_df = pd.read_csv(pred_file)\n",
    "pred_file_groups = pred_df.groupby('filename').groups\n",
    "gnd_truth_df = gnd_truth_df[gnd_truth_df['label'] == 'not_infected'].reset_index(drop=True)\n",
    "n_infected = gnd_truth_df.shape[0]\n",
    "gnd_file_groups = gnd_truth_df.groupby('filename').groups\n",
    "labels = []\n",
    "infected_pred = pd.DataFrame(columns=['filename', 'label', 'xmin', 'ymin', 'xmax', 'ymax', 'objectness'])\n",
    "#Label all the predictions(TP,FP,FN)\n",
    "for i,j in gnd_file_groups.items():\n",
    "    if i not in pred_file_groups.keys():\n",
    "        continue\n",
    "    gnd = gnd_truth_df.iloc[j].reset_index(drop=True)\n",
    "    pred = pred_df.iloc[pred_file_groups[i]].reset_index(drop=True)\n",
    "    labels+=asssign_label(gnd,pred)\n",
    "    infected_pred = infected_pred.append(pred).reset_index(drop=True)\n",
    "infected_pred['label'] = labels\n",
    "infected_pred = infected_pred.sort_values('objectness',ascending=False).reset_index(drop=True)\n",
    "labels = infected_pred['label']\n",
    "precision = calculate_precision(labels)\n",
    "recall = calculate_recall(labels,n_infected)\n",
    "interpo_pr = calculate_interpolated_precision(precision,recall)\n",
    "\n",
    "not_infected_recall = recall\n",
    "not_infected_precision = interpo_pr"
   ]
  },
  {
   "cell_type": "code",
   "execution_count": 182,
   "metadata": {},
   "outputs": [
    {
     "data": {
      "image/png": "[encoded data removed]",
      "text/plain": [
       "<Figure size 432x288 with 1 Axes>"
      ]
     },
     "metadata": {
      "needs_background": "light"
     },
     "output_type": "display_data"
    }
   ],
   "source": [
    "plt.xlabel('recall',)\n",
    "plt.ylabel('precision')\n",
    "plt.title('Precision Vs Recall for not_infected')\n",
    "plt.plot(recall,precision,label='precision')\n",
    "plt.plot(recall,interpo_pr,label='interpolated_precision')\n",
    "plt.legend()\n",
    "plt.show()"
   ]
  },
  {
   "cell_type": "code",
   "execution_count": 183,
   "metadata": {},
   "outputs": [
    {
     "name": "stdout",
     "output_type": "stream",
     "text": [
      "mAP For no_infected =  0.0\n"
     ]
    }
   ],
   "source": [
    "sampled_recall = np.linspace(0.0,0.9,11)\n",
    "sampled_precision = calculate_interpolated_precision(precision,sampled_recall)\n",
    "mAP_not_infected = np.average(sampled_precision)\n",
    "print('mAP For no_infected = ',mAP_not_infected )"
   ]
  },
  {
   "cell_type": "code",
   "execution_count": 184,
   "metadata": {},
   "outputs": [],
   "source": [
    "mAP = (mAP_infected + mAP_not_infected) / 2"
   ]
  },
  {
   "cell_type": "code",
   "execution_count": 185,
   "metadata": {},
   "outputs": [
    {
     "name": "stdout",
     "output_type": "stream",
     "text": [
      "mAp =  0.34545454545454546\n"
     ]
    }
   ],
   "source": [
    "print('mAp = ',mAP )"
   ]
  },
  {
   "cell_type": "code",
   "execution_count": 186,
   "metadata": {},
   "outputs": [
    {
     "data": {
      "image/png": "[encoded data removed]",
      "text/plain": [
       "<Figure size 432x288 with 1 Axes>"
      ]
     },
     "metadata": {
      "needs_background": "light"
     },
     "output_type": "display_data"
    }
   ],
   "source": [
    "plt.xlabel('recall',)\n",
    "plt.ylabel('precision')\n",
    "plt.title('Precision Vs Recall for both classes')\n",
    "plt.plot(infected_recall,infected_precision,label='infected')\n",
    "plt.plot(not_infected_recall,not_infected_precision,label='not_infected')\n",
    "plt.legend()\n",
    "plt.show()"
   ]
  },
  {
   "cell_type": "code",
   "execution_count": null,
   "metadata": {},
   "outputs": [],
   "source": []
  }
 ],
 "metadata": {
  "kernelspec": {
   "display_name": "Python 3",
   "language": "python",
   "name": "python3"
  },
  "language_info": {
   "codemirror_mode": {
    "name": "ipython",
    "version": 3
   },
   "file_extension": ".py",
   "mimetype": "text/x-python",
   "name": "python",
   "nbconvert_exporter": "python",
   "pygments_lexer": "ipython3",
   "version": "3.6.8"
  }
 },
 "nbformat": 4,
 "nbformat_minor": 2
}
